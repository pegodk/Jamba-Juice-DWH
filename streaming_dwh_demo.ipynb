{
 "cells": [
  {
   "cell_type": "markdown",
   "metadata": {},
   "source": [
    "# INTRODUCTION"
   ]
  },
  {
   "cell_type": "code",
   "execution_count": null,
   "metadata": {},
   "outputs": [],
   "source": [
    "\n",
    "# Import SparkSession\n",
    "import pyspark\n",
    "from delta import configure_spark_with_delta_pip\n",
    "\n",
    "builder = pyspark.sql.SparkSession.builder.appName(\"STREAMING_DWH\") \\\n",
    "    .config(\"spark.sql.extensions\", \"io.delta.sql.DeltaSparkSessionExtension\") \\\n",
    "    .config(\"spark.sql.catalog.spark_catalog\", \"org.apache.spark.sql.delta.catalog.DeltaCatalog\")\n",
    "\n",
    "spark = configure_spark_with_delta_pip(builder).getOrCreate()\n"
   ]
  },
  {
   "cell_type": "code",
   "execution_count": null,
   "metadata": {},
   "outputs": [],
   "source": [
    "# To allow automatic schemaInference while reading\n",
    "spark.conf.set(\"spark.sql.streaming.schemaInference\", True)\n",
    "\n",
    "# Create the streaming_df to read from input directory\n",
    "streaming_df = spark \\\n",
    "    .readStream \\\n",
    "    .format(\"json\") \\\n",
    "    .option(\"maxFilesPerTrigger\", 1) \\\n",
    "    .load(\"data/product/\")\n",
    "\n",
    "streaming_df.printSchema()"
   ]
  },
  {
   "cell_type": "code",
   "execution_count": null,
   "metadata": {},
   "outputs": [],
   "source": [
    "# Define database schemas - Bronze, Silver, Gold\n",
    "spark.sql(\"CREATE SCHEMA IF NOT EXISTS bronze;\")\n",
    "spark.sql(\"CREATE SCHEMA IF NOT EXISTS silver;\")\n",
    "spark.sql(\"CREATE SCHEMA IF NOT EXISTS gold;\")\n",
    "spark.sql(\"USE SCHEMA bronze;\")"
   ]
  },
  {
   "cell_type": "code",
   "execution_count": null,
   "metadata": {},
   "outputs": [],
   "source": [
    "from pyspark.sql.functions import current_timestamp, input_file_name\n",
    "\n",
    "def raw_ingestion(schema_name, table_name):\n",
    "    # Generates a source path based on table name, reads all files from that and inserts into bronze schema\n",
    "\n",
    "    query = (\n",
    "        spark.readStream\n",
    "        .format(\"json\")\n",
    "        .option(\"maxFilesPerTrigger\", 1)\n",
    "        .load(f\"data/{table_name}\")\n",
    "        .withColumn(\"meta_timestamp\", current_timestamp())\n",
    "        .withColumn(\"meta_filename\", input_file_name())\n",
    "        .writeStream\n",
    "        .outputMode(\"append\")\n",
    "        .format(\"delta\")\n",
    "        .option(\"checkpointLocation\", f\"spark-warehouse/_checkpoints/{schema_name}.{table_name}\")\n",
    "        .toTable(f\"{schema_name}.{table_name}\")\n",
    "    )\n",
    "    return query\n",
    "\n",
    "query1 = raw_ingestion(schema_name=\"bronze\", table_name=\"inventory\")\n",
    "query2 = raw_ingestion(schema_name=\"bronze\", table_name=\"product\")\n",
    "query3 = raw_ingestion(schema_name=\"bronze\", table_name=\"purchase\")\n",
    "\n",
    "# Use the code \n",
    "# spark.streams.awaitAnyTermination()\n"
   ]
  },
  {
   "cell_type": "code",
   "execution_count": null,
   "metadata": {},
   "outputs": [],
   "source": [
    "spark.sql(\"SELECT * FROM bronze.product\").show(15)"
   ]
  },
  {
   "cell_type": "code",
   "execution_count": null,
   "metadata": {},
   "outputs": [],
   "source": [
    "spark.sql(\"SELECT current_schema()\").show()\n",
    "spark.sql(\"DESCRIBE SCHEMA EXTENDED bronze;\").show()\n",
    "spark.sql(\"SHOW TABLES IN bronze;\").show()"
   ]
  },
  {
   "cell_type": "code",
   "execution_count": null,
   "metadata": {},
   "outputs": [],
   "source": [
    "spark.sql(\"select * from bronze.product\").show(5)"
   ]
  },
  {
   "cell_type": "markdown",
   "metadata": {},
   "source": [
    "# SLOWLY CHANGING DIMENSIONS (SCD) - TYPE 2"
   ]
  },
  {
   "cell_type": "code",
   "execution_count": 98,
   "metadata": {},
   "outputs": [],
   "source": [
    "\n",
    "source_table = \"tempView\"\n",
    "target_table = \"bronze.product_scd2\"\n",
    "merge_key = \"product_id\"\n",
    "timestamp = \"event_time\""
   ]
  },
  {
   "cell_type": "code",
   "execution_count": 120,
   "metadata": {},
   "outputs": [
    {
     "name": "stdout",
     "output_type": "stream",
     "text": [
      "+-----------------+----+-----------------+--------------+-------------+----------------+--------------------------+------------------+-----+----------+------+-----------------------+-----------------------------------------------------+--------------------------------+---------------+--------------------------+-------------+----------+\n",
      "|category         |cogs|contains_caffeine|contains_fruit|contains_nuts|contains_veggies|event_time                |item              |price|product_id|size  |meta_timestamp         |meta_filename                                        |meta_hashdiff                   |meta_is_current|meta_valid_from           |meta_valid_to|row_number|\n",
      "+-----------------+----+-----------------+--------------+-------------+----------------+--------------------------+------------------+-----+----------+------+-----------------------+-----------------------------------------------------+--------------------------------+---------------+--------------------------+-------------+----------+\n",
      "|Classic Smoothies|1.5 |false            |true          |false        |false           |2024-02-17 19:27:38.159280|Sunrise Sunset    |4.99 |CS01      |24 oz.|2024-02-17 20:18:21.867|file:///home/peter/data/product/1708198058159380.json|0147022bc45f64893ed3b75973da40c6|true           |2024-02-17 19:27:38.159280|NULL         |1         |\n",
      "|Classic Smoothies|1.5 |false            |true          |false        |false           |2024-02-17 19:32:15.858490|Sunrise Sunset    |4.99 |CS01      |24 oz.|2024-02-17 20:20:50.731|file:///home/peter/data/product/1708198335858613.json|7e286003f13bdbcfdcfffbb027d3603c|true           |2024-02-17 19:32:15.858490|NULL         |2         |\n",
      "|Classic Smoothies|1.5 |false            |true          |false        |false           |2024-02-17 19:27:38.164591|Kiwi Quencher     |4.99 |CS02      |24 oz.|2024-02-17 20:18:26.631|file:///home/peter/data/product/1708198058164640.json|2323eb554a8a3025659576b6d6abb2c9|true           |2024-02-17 19:27:38.164591|NULL         |1         |\n",
      "|Classic Smoothies|1.5 |false            |true          |false        |false           |2024-02-17 19:32:15.864915|Kiwi Quencher     |4.99 |CS02      |24 oz.|2024-02-17 20:20:57.412|file:///home/peter/data/product/1708198335864991.json|f08f11a6da8408b21e3466eecd92b61a|true           |2024-02-17 19:32:15.864915|NULL         |2         |\n",
      "|Classic Smoothies|1.5 |false            |true          |false        |false           |2024-02-17 19:27:38.169361|Paradise Point    |4.99 |CS03      |24 oz.|2024-02-17 20:18:30.008|file:///home/peter/data/product/1708198058169406.json|4c968a256ac4452652fcd1fe3a3f0ee9|true           |2024-02-17 19:27:38.169361|NULL         |1         |\n",
      "|Classic Smoothies|1.5 |false            |true          |false        |false           |2024-02-17 19:32:15.870287|Paradise Point    |4.99 |CS03      |24 oz.|2024-02-17 20:21:04.133|file:///home/peter/data/product/1708198335870385.json|84a5fe3c04d27fda819ded431cc3b0b9|true           |2024-02-17 19:32:15.870287|NULL         |2         |\n",
      "|Classic Smoothies|1.5 |false            |true          |false        |false           |2024-02-17 19:27:38.174798|Sunny Day         |4.99 |CS04      |24 oz.|2024-02-17 20:18:33.431|file:///home/peter/data/product/1708198058174863.json|d36b4c98ab98dbfda4504eb4e1bd9a78|true           |2024-02-17 19:27:38.174798|NULL         |1         |\n",
      "|Classic Smoothies|1.5 |false            |true          |false        |false           |2024-02-17 19:32:15.877521|Sunny Day         |4.99 |CS04      |24 oz.|2024-02-17 20:21:13.372|file:///home/peter/data/product/1708198335877581.json|a26b6c0124aa7d4fb25d2b00e30d4abb|true           |2024-02-17 19:32:15.877521|NULL         |2         |\n",
      "|Classic Smoothies|1.5 |false            |true          |false        |false           |2024-02-17 19:27:38.181315|Mango Magic       |4.99 |CS05      |24 oz.|2024-02-17 20:18:38.401|file:///home/peter/data/product/1708198058181371.json|a61592521f1ea72a1c0e1d431a03702e|true           |2024-02-17 19:27:38.181315|NULL         |1         |\n",
      "|Classic Smoothies|1.5 |false            |true          |false        |false           |2024-02-17 19:32:15.884635|Mango Magic       |4.99 |CS05      |24 oz.|2024-02-17 20:21:21.414|file:///home/peter/data/product/1708198335884711.json|60a0176065012066288d6dd559e3ad54|true           |2024-02-17 19:32:15.884635|NULL         |2         |\n",
      "|Classic Smoothies|1.5 |false            |true          |false        |false           |2024-02-17 19:27:38.186888|Blimey Limey      |4.99 |CS06      |24 oz.|2024-02-17 20:18:47.594|file:///home/peter/data/product/1708198058186956.json|010dbd90cd8779f9316ed15faea68a9b|true           |2024-02-17 19:27:38.186888|NULL         |1         |\n",
      "|Classic Smoothies|1.5 |false            |true          |false        |false           |2024-02-17 19:32:15.890414|Blimey Limey      |4.99 |CS06      |24 oz.|2024-02-17 20:21:28.487|file:///home/peter/data/product/1708198335890524.json|fb50b8a6e9943c8e07099ff41f3e1e83|true           |2024-02-17 19:32:15.890414|NULL         |2         |\n",
      "|Classic Smoothies|1.5 |false            |true          |false        |false           |2024-02-17 19:27:38.191860|Blueberry Bliss   |4.99 |CS07      |24 oz.|2024-02-17 20:18:52.132|file:///home/peter/data/product/1708198058191938.json|54c13da6e14a155b9da9886c4dd6eba6|true           |2024-02-17 19:27:38.191860|NULL         |1         |\n",
      "|Classic Smoothies|1.5 |false            |true          |false        |false           |2024-02-17 19:32:15.898115|Blueberry Bliss   |4.99 |CS07      |24 oz.|2024-02-17 20:21:35.714|file:///home/peter/data/product/1708198335898301.json|234a41250aba8a38e3d291a8a9205ba3|true           |2024-02-17 19:32:15.898115|NULL         |2         |\n",
      "|Classic Smoothies|1.5 |false            |true          |false        |false           |2024-02-17 19:27:38.198617|Rockin’ Raspberry |4.99 |CS08      |24 oz.|2024-02-17 20:18:55.898|file:///home/peter/data/product/1708198058198673.json|368ad02ff185416ee1537f287ed39d5d|true           |2024-02-17 19:27:38.198617|NULL         |1         |\n",
      "|Classic Smoothies|1.5 |false            |true          |false        |false           |2024-02-17 19:32:15.905255|Rockin’ Raspberry |4.99 |CS08      |24 oz.|2024-02-17 20:21:43.72 |file:///home/peter/data/product/1708198335905349.json|96302a26dab65f4eda942b2582c8e52a|true           |2024-02-17 19:32:15.905255|NULL         |2         |\n",
      "|Classic Smoothies|1.5 |false            |true          |false        |false           |2024-02-17 19:27:38.204198|Strawberry Limeade|4.99 |CS09      |24 oz.|2024-02-17 20:19:00.009|file:///home/peter/data/product/1708198058204241.json|0b3da81562edbeff3a69a2254c2bbd7d|true           |2024-02-17 19:27:38.204198|NULL         |1         |\n",
      "|Classic Smoothies|1.5 |false            |true          |false        |false           |2024-02-17 19:32:15.912050|Strawberry Limeade|4.99 |CS09      |24 oz.|2024-02-17 20:21:51.617|file:///home/peter/data/product/1708198335912148.json|9a07c8f1b1573c19353a944c6775b7c7|true           |2024-02-17 19:32:15.912050|NULL         |2         |\n",
      "|Classic Smoothies|1.5 |false            |true          |false        |false           |2024-02-17 19:27:38.209159|Peaches ‘n Silk   |4.99 |CS10      |24 oz.|2024-02-17 20:19:04.817|file:///home/peter/data/product/1708198058209222.json|ccfee152839590857e021b35c53e93e6|true           |2024-02-17 19:27:38.209159|NULL         |1         |\n",
      "|Classic Smoothies|1.5 |false            |true          |false        |false           |2024-02-17 19:32:15.919730|Peaches ‘n Silk   |4.99 |CS10      |24 oz.|2024-02-17 20:21:59.891|file:///home/peter/data/product/1708198335919791.json|5c82d33bb3d1e9d103c2dd4feda0a1c7|true           |2024-02-17 19:32:15.919730|NULL         |2         |\n",
      "+-----------------+----+-----------------+--------------+-------------+----------------+--------------------------+------------------+-----+----------+------+-----------------------+-----------------------------------------------------+--------------------------------+---------------+--------------------------+-------------+----------+\n",
      "only showing top 20 rows\n",
      "\n"
     ]
    }
   ],
   "source": [
    "\n",
    "from pyspark.sql.functions import md5, concat_ws, lit, row_number\n",
    "from pyspark.sql.types import BooleanType, TimestampType\n",
    "from pyspark.sql.window import Window\n",
    "\n",
    "# Get list of all columns that doesn't contain \"meta_\"\n",
    "df = spark.sql(\"select * from bronze.product\")\n",
    "df = df.withColumn(\"meta_hashdiff\", md5(concat_ws(\"||\", *[c for c in df.columns if \"meta_\" not in c])))\n",
    "df = df.withColumn(\"meta_is_current\", lit(1).cast(BooleanType()))\n",
    "df = df.withColumn(\"meta_valid_from\", df[timestamp])\n",
    "df = df.withColumn(\"meta_valid_to\", lit(None).cast(TimestampType()))\n",
    "\n",
    "# Create an empty Delta table with the same schema\n",
    "df.createOrReplaceTempView(\"tempView\")\n",
    "spark.sql(\"CREATE TABLE IF NOT EXISTS bronze.product_scd2 LIKE tempView USING DELTA\")\n",
    "\n",
    "# Add partition column\n",
    "window_spec  = Window.partitionBy(\"product_id\").orderBy(\"event_time\")\n",
    "df = df.withColumn(\"row_number\", row_number().over(window_spec))\n",
    "df.createOrReplaceTempView(\"tempView\")\n",
    "\n",
    "df.show(truncate=False)"
   ]
  },
  {
   "cell_type": "code",
   "execution_count": 121,
   "metadata": {},
   "outputs": [
    {
     "name": "stdout",
     "output_type": "stream",
     "text": [
      "+-----------------+\n",
      "|         col_name|\n",
      "+-----------------+\n",
      "|         category|\n",
      "|             cogs|\n",
      "|contains_caffeine|\n",
      "|   contains_fruit|\n",
      "|    contains_nuts|\n",
      "| contains_veggies|\n",
      "|       event_time|\n",
      "|             item|\n",
      "|            price|\n",
      "|       product_id|\n",
      "|             size|\n",
      "|   meta_timestamp|\n",
      "|    meta_filename|\n",
      "|    meta_hashdiff|\n",
      "|  meta_is_current|\n",
      "|  meta_valid_from|\n",
      "|    meta_valid_to|\n",
      "+-----------------+\n",
      "\n",
      "root\n",
      " |-- category: string (nullable = true)\n",
      " |-- cogs: double (nullable = true)\n",
      " |-- contains_caffeine: boolean (nullable = true)\n",
      " |-- contains_fruit: boolean (nullable = true)\n",
      " |-- contains_nuts: boolean (nullable = true)\n",
      " |-- contains_veggies: boolean (nullable = true)\n",
      " |-- event_time: string (nullable = true)\n",
      " |-- item: string (nullable = true)\n",
      " |-- price: double (nullable = true)\n",
      " |-- product_id: string (nullable = true)\n",
      " |-- size: string (nullable = true)\n",
      " |-- meta_timestamp: timestamp (nullable = true)\n",
      " |-- meta_filename: string (nullable = true)\n",
      " |-- meta_hashdiff: string (nullable = false)\n",
      " |-- meta_is_current: boolean (nullable = false)\n",
      " |-- meta_valid_from: string (nullable = true)\n",
      " |-- meta_valid_to: timestamp (nullable = true)\n",
      "\n"
     ]
    }
   ],
   "source": [
    "# spark.sql(\"DROP TABLE bronze.product_scd2\").show()\n",
    "spark.sql(\"SHOW COLUMNS FROM bronze.product_scd2\").show()\n",
    "spark.sql(\"select * from bronze.product_scd2\").printSchema()"
   ]
  },
  {
   "cell_type": "code",
   "execution_count": 117,
   "metadata": {},
   "outputs": [
    {
     "name": "stdout",
     "output_type": "stream",
     "text": [
      "\n",
      "        MERGE INTO bronze.product_scd2 AS target\n",
      "        USING tempView AS source ON target.product_id = source.product_id\n",
      "        WHEN MATCHED AND target.meta_is_current = true AND target.meta_hashdiff <> source.meta_hashdiff AND source.row_number = 1\n",
      "        THEN UPDATE SET meta_is_current = false, meta_valid_to = source.event_time\n",
      "        WHEN NOT MATCHED THEN INSERT *\n",
      "    \n"
     ]
    },
    {
     "ename": "UnsupportedOperationException",
     "evalue": "[DELTA_MULTIPLE_SOURCE_ROW_MATCHING_TARGET_ROW_IN_MERGE] Cannot perform Merge as multiple source rows matched and attempted to modify the same\ntarget row in the Delta table in possibly conflicting ways. By SQL semantics of Merge,\nwhen multiple source rows match on the same target row, the result may be ambiguous\nas it is unclear which source row should be used to update or delete the matching\ntarget row. You can preprocess the source table to eliminate the possibility of\nmultiple matches. Please refer to\nhttps://docs.delta.io/latest/delta-update.html#upsert-into-a-table-using-merge",
     "output_type": "error",
     "traceback": [
      "\u001b[0;31m---------------------------------------------------------------------------\u001b[0m",
      "\u001b[0;31mUnsupportedOperationException\u001b[0m             Traceback (most recent call last)",
      "Cell \u001b[0;32mIn[117], line 20\u001b[0m\n\u001b[1;32m      5\u001b[0m merge_query \u001b[38;5;241m=\u001b[39m \u001b[38;5;124m\"\"\"\u001b[39m\n\u001b[1;32m      6\u001b[0m \u001b[38;5;124m    MERGE INTO \u001b[39m\u001b[38;5;132;01m{target_table}\u001b[39;00m\u001b[38;5;124m AS target\u001b[39m\n\u001b[1;32m      7\u001b[0m \u001b[38;5;124m    USING \u001b[39m\u001b[38;5;132;01m{source_table}\u001b[39;00m\u001b[38;5;124m AS source ON target.\u001b[39m\u001b[38;5;132;01m{merge_key}\u001b[39;00m\u001b[38;5;124m = source.\u001b[39m\u001b[38;5;132;01m{merge_key}\u001b[39;00m\n\u001b[0;32m   (...)\u001b[0m\n\u001b[1;32m     16\u001b[0m     partition\u001b[38;5;241m=\u001b[39mrow_num\n\u001b[1;32m     17\u001b[0m )\n\u001b[1;32m     19\u001b[0m \u001b[38;5;28mprint\u001b[39m(merge_query)\n\u001b[0;32m---> 20\u001b[0m \u001b[43mspark\u001b[49m\u001b[38;5;241;43m.\u001b[39;49m\u001b[43msql\u001b[49m\u001b[43m(\u001b[49m\u001b[43mmerge_query\u001b[49m\u001b[43m)\u001b[49m\u001b[38;5;241m.\u001b[39mshow()\n",
      "File \u001b[0;32m/opt/conda/envs/vscode_pyspark/lib/python3.11/site-packages/pyspark/sql/session.py:1631\u001b[0m, in \u001b[0;36mSparkSession.sql\u001b[0;34m(self, sqlQuery, args, **kwargs)\u001b[0m\n\u001b[1;32m   1627\u001b[0m         \u001b[38;5;28;01massert\u001b[39;00m \u001b[38;5;28mself\u001b[39m\u001b[38;5;241m.\u001b[39m_jvm \u001b[38;5;129;01mis\u001b[39;00m \u001b[38;5;129;01mnot\u001b[39;00m \u001b[38;5;28;01mNone\u001b[39;00m\n\u001b[1;32m   1628\u001b[0m         litArgs \u001b[38;5;241m=\u001b[39m \u001b[38;5;28mself\u001b[39m\u001b[38;5;241m.\u001b[39m_jvm\u001b[38;5;241m.\u001b[39mPythonUtils\u001b[38;5;241m.\u001b[39mtoArray(\n\u001b[1;32m   1629\u001b[0m             [_to_java_column(lit(v)) \u001b[38;5;28;01mfor\u001b[39;00m v \u001b[38;5;129;01min\u001b[39;00m (args \u001b[38;5;129;01mor\u001b[39;00m [])]\n\u001b[1;32m   1630\u001b[0m         )\n\u001b[0;32m-> 1631\u001b[0m     \u001b[38;5;28;01mreturn\u001b[39;00m DataFrame(\u001b[38;5;28;43mself\u001b[39;49m\u001b[38;5;241;43m.\u001b[39;49m\u001b[43m_jsparkSession\u001b[49m\u001b[38;5;241;43m.\u001b[39;49m\u001b[43msql\u001b[49m\u001b[43m(\u001b[49m\u001b[43msqlQuery\u001b[49m\u001b[43m,\u001b[49m\u001b[43m \u001b[49m\u001b[43mlitArgs\u001b[49m\u001b[43m)\u001b[49m, \u001b[38;5;28mself\u001b[39m)\n\u001b[1;32m   1632\u001b[0m \u001b[38;5;28;01mfinally\u001b[39;00m:\n\u001b[1;32m   1633\u001b[0m     \u001b[38;5;28;01mif\u001b[39;00m \u001b[38;5;28mlen\u001b[39m(kwargs) \u001b[38;5;241m>\u001b[39m \u001b[38;5;241m0\u001b[39m:\n",
      "File \u001b[0;32m/opt/conda/envs/vscode_pyspark/lib/python3.11/site-packages/py4j/java_gateway.py:1322\u001b[0m, in \u001b[0;36mJavaMember.__call__\u001b[0;34m(self, *args)\u001b[0m\n\u001b[1;32m   1316\u001b[0m command \u001b[38;5;241m=\u001b[39m proto\u001b[38;5;241m.\u001b[39mCALL_COMMAND_NAME \u001b[38;5;241m+\u001b[39m\\\n\u001b[1;32m   1317\u001b[0m     \u001b[38;5;28mself\u001b[39m\u001b[38;5;241m.\u001b[39mcommand_header \u001b[38;5;241m+\u001b[39m\\\n\u001b[1;32m   1318\u001b[0m     args_command \u001b[38;5;241m+\u001b[39m\\\n\u001b[1;32m   1319\u001b[0m     proto\u001b[38;5;241m.\u001b[39mEND_COMMAND_PART\n\u001b[1;32m   1321\u001b[0m answer \u001b[38;5;241m=\u001b[39m \u001b[38;5;28mself\u001b[39m\u001b[38;5;241m.\u001b[39mgateway_client\u001b[38;5;241m.\u001b[39msend_command(command)\n\u001b[0;32m-> 1322\u001b[0m return_value \u001b[38;5;241m=\u001b[39m \u001b[43mget_return_value\u001b[49m\u001b[43m(\u001b[49m\n\u001b[1;32m   1323\u001b[0m \u001b[43m    \u001b[49m\u001b[43manswer\u001b[49m\u001b[43m,\u001b[49m\u001b[43m \u001b[49m\u001b[38;5;28;43mself\u001b[39;49m\u001b[38;5;241;43m.\u001b[39;49m\u001b[43mgateway_client\u001b[49m\u001b[43m,\u001b[49m\u001b[43m \u001b[49m\u001b[38;5;28;43mself\u001b[39;49m\u001b[38;5;241;43m.\u001b[39;49m\u001b[43mtarget_id\u001b[49m\u001b[43m,\u001b[49m\u001b[43m \u001b[49m\u001b[38;5;28;43mself\u001b[39;49m\u001b[38;5;241;43m.\u001b[39;49m\u001b[43mname\u001b[49m\u001b[43m)\u001b[49m\n\u001b[1;32m   1325\u001b[0m \u001b[38;5;28;01mfor\u001b[39;00m temp_arg \u001b[38;5;129;01min\u001b[39;00m temp_args:\n\u001b[1;32m   1326\u001b[0m     \u001b[38;5;28;01mif\u001b[39;00m \u001b[38;5;28mhasattr\u001b[39m(temp_arg, \u001b[38;5;124m\"\u001b[39m\u001b[38;5;124m_detach\u001b[39m\u001b[38;5;124m\"\u001b[39m):\n",
      "File \u001b[0;32m/opt/conda/envs/vscode_pyspark/lib/python3.11/site-packages/pyspark/errors/exceptions/captured.py:185\u001b[0m, in \u001b[0;36mcapture_sql_exception.<locals>.deco\u001b[0;34m(*a, **kw)\u001b[0m\n\u001b[1;32m    181\u001b[0m converted \u001b[38;5;241m=\u001b[39m convert_exception(e\u001b[38;5;241m.\u001b[39mjava_exception)\n\u001b[1;32m    182\u001b[0m \u001b[38;5;28;01mif\u001b[39;00m \u001b[38;5;129;01mnot\u001b[39;00m \u001b[38;5;28misinstance\u001b[39m(converted, UnknownException):\n\u001b[1;32m    183\u001b[0m     \u001b[38;5;66;03m# Hide where the exception came from that shows a non-Pythonic\u001b[39;00m\n\u001b[1;32m    184\u001b[0m     \u001b[38;5;66;03m# JVM exception message.\u001b[39;00m\n\u001b[0;32m--> 185\u001b[0m     \u001b[38;5;28;01mraise\u001b[39;00m converted \u001b[38;5;28;01mfrom\u001b[39;00m \u001b[38;5;28;01mNone\u001b[39;00m\n\u001b[1;32m    186\u001b[0m \u001b[38;5;28;01melse\u001b[39;00m:\n\u001b[1;32m    187\u001b[0m     \u001b[38;5;28;01mraise\u001b[39;00m\n",
      "\u001b[0;31mUnsupportedOperationException\u001b[0m: [DELTA_MULTIPLE_SOURCE_ROW_MATCHING_TARGET_ROW_IN_MERGE] Cannot perform Merge as multiple source rows matched and attempted to modify the same\ntarget row in the Delta table in possibly conflicting ways. By SQL semantics of Merge,\nwhen multiple source rows match on the same target row, the result may be ambiguous\nas it is unclear which source row should be used to update or delete the matching\ntarget row. You can preprocess the source table to eliminate the possibility of\nmultiple matches. Please refer to\nhttps://docs.delta.io/latest/delta-update.html#upsert-into-a-table-using-merge"
     ]
    }
   ],
   "source": [
    "list_of_partitions = [i for i in df.select('row_number').orderBy(\"row_number\").distinct().collect()]\n",
    "\n",
    "for row_num in [1, 2]:\n",
    "\n",
    "    merge_query = \"\"\"\n",
    "        MERGE INTO {target_table} AS target\n",
    "        USING {source_table} AS source ON target.{merge_key} = source.{merge_key}\n",
    "        WHEN MATCHED AND target.meta_is_current = true AND target.meta_hashdiff <> source.meta_hashdiff AND source.row_number = {partition}\n",
    "        THEN UPDATE SET meta_is_current = false, meta_valid_to = source.{timestamp}\n",
    "        WHEN NOT MATCHED THEN INSERT *\n",
    "    \"\"\".format(\n",
    "        source_table=source_table,\n",
    "        target_table=target_table,\n",
    "        merge_key=merge_key,\n",
    "        timestamp=timestamp,\n",
    "        partition=row_num\n",
    "    )\n",
    "\n",
    "    print(merge_query)\n",
    "    spark.sql(merge_query).show()\n",
    "\n"
   ]
  },
  {
   "cell_type": "code",
   "execution_count": 97,
   "metadata": {},
   "outputs": [
    {
     "ename": "NameError",
     "evalue": "name 'Window' is not defined",
     "output_type": "error",
     "traceback": [
      "\u001b[0;31m---------------------------------------------------------------------------\u001b[0m",
      "\u001b[0;31mNameError\u001b[0m                                 Traceback (most recent call last)",
      "Cell \u001b[0;32mIn[97], line 7\u001b[0m\n\u001b[1;32m      4\u001b[0m timestamp \u001b[38;5;241m=\u001b[39m \u001b[38;5;124m\"\u001b[39m\u001b[38;5;124mevent_time\u001b[39m\u001b[38;5;124m\"\u001b[39m\n\u001b[1;32m      6\u001b[0m \u001b[38;5;66;03m# Add partition column\u001b[39;00m\n\u001b[0;32m----> 7\u001b[0m window_spec  \u001b[38;5;241m=\u001b[39m \u001b[43mWindow\u001b[49m\u001b[38;5;241m.\u001b[39mpartitionBy(\u001b[38;5;124m\"\u001b[39m\u001b[38;5;124mproduct_id\u001b[39m\u001b[38;5;124m\"\u001b[39m)\u001b[38;5;241m.\u001b[39morderBy(\u001b[38;5;124m\"\u001b[39m\u001b[38;5;124mevent_time\u001b[39m\u001b[38;5;124m\"\u001b[39m)\n\u001b[1;32m      8\u001b[0m df\u001b[38;5;241m.\u001b[39mwithColumn(\u001b[38;5;124m\"\u001b[39m\u001b[38;5;124mrow_number\u001b[39m\u001b[38;5;124m\"\u001b[39m, row_number()\u001b[38;5;241m.\u001b[39mover(window_spec))\n\u001b[1;32m      9\u001b[0m df\u001b[38;5;241m.\u001b[39mcreateOrReplaceTempView(\u001b[38;5;124m\"\u001b[39m\u001b[38;5;124mtempView\u001b[39m\u001b[38;5;124m\"\u001b[39m)\n",
      "\u001b[0;31mNameError\u001b[0m: name 'Window' is not defined"
     ]
    }
   ],
   "source": [
    "\n",
    "# \"MERGE INTO {target_table}\\n\",\n",
    "#     \"USING (\\n\",\n",
    "#     \"  SELECT {source_table}.*\\n\",\n",
    "#     \"  FROM {source_table} JOIN {target_table}\\n\",\n",
    "#     \"  ON {source_table}.{merge_key} = {target_table}.{merge_key} \\n\",\n",
    "#     \"  WHERE {target_table}.meta_is_current = true {source_table}.meta_hashdiff <> {target_table}.meta_hashdiff \\n\",\n",
    "#     \") staged_updates\\n\",\n",
    "#     \"ON {target_table}.{merge_key} = staged_updates.{merge_key}\\n\",\n",
    "#     \"WHEN MATCHED AND {target_table}.meta_is_current = true AND {target_table}.meta_hashdiff <> staged_updates.meta_hashdiff THEN  \\n\",\n",
    "#     \"  UPDATE SET meta_is_current = false, endDate = staged_updates.effectiveDate\\n\",\n",
    "#     \"WHEN NOT MATCHED THEN \\n\",\n",
    "#     \"  INSERT(customerid, address, current, effectivedate, enddate)\\n\",\n",
    "#     \"  VALUES(staged_updates.key, staged_updates.address, true, staged_updates.effectiveDate, null)\\n\",\n",
    "\n",
    "merge_query = \"\"\"\n",
    "  MERGE INTO {target_table} AS target\n",
    "  USING {source_table} AS source ON target.{merge_key} = source.{merge_key}\n",
    "  WHEN MATCHED AND target.meta_is_current = true AND target.meta_hashdiff <> source.meta_hashdiff \n",
    "  THEN UPDATE SET meta_is_current = false, meta_valid_to = source.{timestamp}\n",
    "  WHEN NOT MATCHED THEN INSERT *\n",
    "\"\"\".format(\n",
    "    source_table=source_table,\n",
    "    target_table=target_table,\n",
    "    merge_key=merge_key,\n",
    "    timestamp=timestamp\n",
    "  )\n",
    "\n",
    "# merge_query = \"\"\"\n",
    "#   MERGE INTO {target_table} AS target\n",
    "#   USING {source_table} AS source ON target.{merge_key} = source.{merge_key}\n",
    "#   WHEN MATCHED AND target.meta_is_current = true AND target.meta_hashdiff <> source.meta_hashdiff \n",
    "#   THEN UPDATE SET meta_is_current = false, meta_valid_to = source.{timestamp}\n",
    "#   WHEN NOT MATCHED THEN INSERT\n",
    "#   (\n",
    "#     product_id, \n",
    "#     category, \n",
    "#     cogs, \n",
    "#     contains_caffeine, \n",
    "#     contains_fruit, \n",
    "#     contains_nuts, \n",
    "#     meta_hashdiff,\n",
    "#     meta_is_current, \n",
    "#     meta_valid_from, \n",
    "#     meta_valid_to\n",
    "#   )\n",
    "#   VALUES\n",
    "#   (\n",
    "#     source.product_id, \n",
    "#     source.category, \n",
    "#     source.cogs, \n",
    "#     source.contains_caffeine, \n",
    "#     source.contains_fruit, \n",
    "#     source.contains_nuts,\n",
    "#     meta_hashdiff,\n",
    "#     TRUE,\n",
    "#     source.{timestamp},\n",
    "#     NULL\n",
    "#   )\n",
    "# \"\"\".format(\n",
    "#     source_table=source_table,\n",
    "#     target_table=target_table,\n",
    "#     merge_key=merge_key,\n",
    "#     timestamp=timestamp\n",
    "#   )\n",
    "\n",
    "spark.sql(merge_query)\n"
   ]
  },
  {
   "cell_type": "code",
   "execution_count": 95,
   "metadata": {},
   "outputs": [
    {
     "name": "stdout",
     "output_type": "stream",
     "text": [
      "+----------------------+----+-----------------+--------------+-------------+----------------+----------+----+-----+----------+----+--------------+-------------+--------------------------------+---------------+--------------------------+-------------+\n",
      "|category              |cogs|contains_caffeine|contains_fruit|contains_nuts|contains_veggies|event_time|item|price|product_id|size|meta_timestamp|meta_filename|meta_hashdiff                   |meta_is_current|meta_valid_from           |meta_valid_to|\n",
      "+----------------------+----+-----------------+--------------+-------------+----------------+----------+----+-----+----------+----+--------------+-------------+--------------------------------+---------------+--------------------------+-------------+\n",
      "|Indulgent Smoothies   |2.2 |true             |false         |true         |NULL            |NULL      |NULL|NULL |IS04      |NULL|NULL          |NULL         |181414610d136a3117263bf8e468104d|true           |2024-02-17 19:27:38.294438|NULL         |\n",
      "|Indulgent Smoothies   |2.2 |true             |false         |true         |NULL            |NULL      |NULL|NULL |IS04      |NULL|NULL          |NULL         |8448f12a88c14541505bc106b63a608d|true           |2024-02-17 19:32:16.028791|NULL         |\n",
      "|Superfoods Smoothies  |2.1 |false            |true          |false        |NULL            |NULL      |NULL|NULL |SF01      |NULL|NULL          |NULL         |46a877223e3c1f223e7ab2a9dca76a3d|true           |2024-02-17 19:27:38.219851|NULL         |\n",
      "|Supercharged Smoothies|2.7 |false            |false         |true         |NULL            |NULL      |NULL|NULL |SC03      |NULL|NULL          |NULL         |ae75c0325cd39eb3fb16f95622d441cf|true           |2024-02-17 19:32:15.991788|NULL         |\n",
      "|Superfoods Smoothies  |2.1 |false            |true          |false        |NULL            |NULL      |NULL|NULL |SF01      |NULL|NULL          |NULL         |618a675ba4294badddaef09007827744|true           |2024-02-17 19:32:15.931266|NULL         |\n",
      "|Classic Smoothies     |1.5 |false            |true          |false        |NULL            |NULL      |NULL|NULL |CS07      |NULL|NULL          |NULL         |234a41250aba8a38e3d291a8a9205ba3|true           |2024-02-17 19:32:15.898115|NULL         |\n",
      "|Classic Smoothies     |1.5 |false            |true          |false        |NULL            |NULL      |NULL|NULL |CS07      |NULL|NULL          |NULL         |54c13da6e14a155b9da9886c4dd6eba6|true           |2024-02-17 19:27:38.19186 |NULL         |\n",
      "|Classic Smoothies     |1.5 |false            |true          |false        |NULL            |NULL      |NULL|NULL |CS09      |NULL|NULL          |NULL         |9a07c8f1b1573c19353a944c6775b7c7|true           |2024-02-17 19:32:15.91205 |NULL         |\n",
      "|Supercharged Smoothies|2.7 |true             |false         |true         |NULL            |NULL      |NULL|NULL |SC04      |NULL|NULL          |NULL         |8988e3e2067ac4d60f03239503ede5dc|true           |2024-02-17 19:32:15.997756|NULL         |\n",
      "|Classic Smoothies     |1.5 |false            |true          |false        |NULL            |NULL      |NULL|NULL |CS10      |NULL|NULL          |NULL         |ccfee152839590857e021b35c53e93e6|true           |2024-02-17 19:27:38.209159|NULL         |\n",
      "|Classic Smoothies     |1.5 |false            |true          |false        |NULL            |NULL      |NULL|NULL |CS10      |NULL|NULL          |NULL         |5c82d33bb3d1e9d103c2dd4feda0a1c7|true           |2024-02-17 19:32:15.91973 |NULL         |\n",
      "|Supercharged Smoothies|2.7 |true             |false         |true         |NULL            |NULL      |NULL|NULL |SC04      |NULL|NULL          |NULL         |80658d89bc392c8cb1f3dd1b6be34945|true           |2024-02-17 19:27:38.269623|NULL         |\n",
      "|Superfoods Smoothies  |2.1 |false            |true          |false        |NULL            |NULL      |NULL|NULL |SF02      |NULL|NULL          |NULL         |702b3136f38cecc8706395e205123a25|true           |2024-02-17 19:32:15.938267|NULL         |\n",
      "|Superfoods Smoothies  |2.1 |false            |true          |false        |NULL            |NULL      |NULL|NULL |SF02      |NULL|NULL          |NULL         |7147ceec46c0ba8a0c862d435191bb7b|true           |2024-02-17 19:27:38.224277|NULL         |\n",
      "|Supercharged Smoothies|2.7 |false            |true          |false        |NULL            |NULL      |NULL|NULL |SC01      |NULL|NULL          |NULL         |5ff3160d534f4a6013382a5f5412be18|true           |2024-02-17 19:27:38.25512 |NULL         |\n",
      "|Superfoods Smoothies  |2.1 |false            |true          |false        |NULL            |NULL      |NULL|NULL |SF04      |NULL|NULL          |NULL         |c862b1ec88a8ef35e845d38eac516f40|true           |2024-02-17 19:32:15.953493|NULL         |\n",
      "|Superfoods Smoothies  |2.1 |false            |true          |false        |NULL            |NULL      |NULL|NULL |SF07      |NULL|NULL          |NULL         |cca9bf95ab6e052228eab31e96f322d8|true           |2024-02-17 19:32:15.972285|NULL         |\n",
      "|Superfoods Smoothies  |2.1 |false            |true          |false        |NULL            |NULL      |NULL|NULL |SF04      |NULL|NULL          |NULL         |c259690eedc78db12dc98653681ceec6|true           |2024-02-17 19:27:38.235679|NULL         |\n",
      "|Superfoods Smoothies  |2.1 |false            |true          |false        |NULL            |NULL      |NULL|NULL |SF07      |NULL|NULL          |NULL         |823bbca17e414f76e8ac627ad67e360c|true           |2024-02-17 19:27:38.250389|NULL         |\n",
      "|Supercharged Smoothies|2.7 |false            |true          |false        |NULL            |NULL      |NULL|NULL |SC01      |NULL|NULL          |NULL         |b21261d928d77693545b410e11a5f2ac|true           |2024-02-17 19:32:15.978411|NULL         |\n",
      "+----------------------+----+-----------------+--------------+-------------+----------------+----------+----+-----+----------+----+--------------+-------------+--------------------------------+---------------+--------------------------+-------------+\n",
      "only showing top 20 rows\n",
      "\n"
     ]
    }
   ],
   "source": [
    "spark.sql(\"select * from bronze.product_scd2\").show(truncate=False)"
   ]
  }
 ],
 "metadata": {
  "kernelspec": {
   "display_name": "vscode_pyspark",
   "language": "python",
   "name": "vscode_pyspark"
  },
  "language_info": {
   "codemirror_mode": {
    "name": "ipython",
    "version": 3
   },
   "file_extension": ".py",
   "mimetype": "text/x-python",
   "name": "python",
   "nbconvert_exporter": "python",
   "pygments_lexer": "ipython3",
   "version": "3.11.7"
  }
 },
 "nbformat": 4,
 "nbformat_minor": 2
}
