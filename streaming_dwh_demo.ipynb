{
 "cells": [
  {
   "cell_type": "markdown",
   "metadata": {},
   "source": [
    "# INTRODUCTION"
   ]
  },
  {
   "cell_type": "code",
   "execution_count": 1,
   "metadata": {},
   "outputs": [],
   "source": [
    "\n",
    "# Import SparkSession\n",
    "import pyspark\n",
    "from delta import configure_spark_with_delta_pip\n",
    "\n",
    "builder = pyspark.sql.SparkSession.builder.appName(\"STREAMING_DWH\") \\\n",
    "    .config(\"spark.sql.extensions\", \"io.delta.sql.DeltaSparkSessionExtension\") \\\n",
    "    .config(\"spark.sql.catalog.spark_catalog\", \"org.apache.spark.sql.delta.catalog.DeltaCatalog\")\n",
    "\n",
    "spark = configure_spark_with_delta_pip(builder).getOrCreate()\n"
   ]
  },
  {
   "cell_type": "code",
   "execution_count": 2,
   "metadata": {},
   "outputs": [
    {
     "name": "stdout",
     "output_type": "stream",
     "text": [
      "root\n",
      " |-- category: string (nullable = true)\n",
      " |-- cogs: double (nullable = true)\n",
      " |-- contains_caffeine: boolean (nullable = true)\n",
      " |-- contains_fruit: boolean (nullable = true)\n",
      " |-- contains_nuts: boolean (nullable = true)\n",
      " |-- contains_veggies: boolean (nullable = true)\n",
      " |-- event_time: string (nullable = true)\n",
      " |-- item: string (nullable = true)\n",
      " |-- price: double (nullable = true)\n",
      " |-- product_id: string (nullable = true)\n",
      " |-- size: string (nullable = true)\n",
      "\n"
     ]
    }
   ],
   "source": [
    "# To allow automatic schemaInference while reading\n",
    "spark.conf.set(\"spark.sql.streaming.schemaInference\", True)\n",
    "\n",
    "# Create the streaming_df to read from input directory\n",
    "streaming_df = spark \\\n",
    "    .readStream \\\n",
    "    .format(\"json\") \\\n",
    "    .option(\"maxFilesPerTrigger\", 1) \\\n",
    "    .load(\"data/product/\")\n",
    "\n",
    "streaming_df.printSchema()"
   ]
  },
  {
   "cell_type": "code",
   "execution_count": 10,
   "metadata": {},
   "outputs": [],
   "source": [
    "from pyspark.sql.functions import current_timestamp, input_file_name\n",
    "\n",
    "def bronze_streaming_ingestion(source, target):\n",
    "    # Generates a source path based on table name, reads all files from that and inserts into bronze schema\n",
    "\n",
    "    query = (\n",
    "        spark.readStream\n",
    "        .format(\"json\")\n",
    "        .option(\"maxFilesPerTrigger\", 1)\n",
    "        .load(source)\n",
    "        .withColumn(\"meta_timestamp\", current_timestamp())\n",
    "        .withColumn(\"meta_filename\", input_file_name())\n",
    "        .writeStream\n",
    "        .outputMode(\"append\")\n",
    "        .format(\"delta\")\n",
    "        .option(\"checkpointLocation\", f\"spark-warehouse/_checkpoints/{target}\")\n",
    "        .toTable(target)\n",
    "    )\n",
    "    return query\n",
    "\n",
    "query1 = bronze_streaming_ingestion(source=\"data/inventory\", target=\"bronze_inventory\")\n",
    "query2 = bronze_streaming_ingestion(source=\"data/product\", target=\"bronze_product\")\n",
    "query3 = bronze_streaming_ingestion(source=\"data/purchase\", target=\"bronze_purchase\")\n",
    "\n",
    "# Use the code \n",
    "spark.streams.awaitAnyTermination()\n"
   ]
  },
  {
   "cell_type": "code",
   "execution_count": 11,
   "metadata": {},
   "outputs": [
    {
     "name": "stdout",
     "output_type": "stream",
     "text": [
      "+--------------------+----+-----------------+--------------+-------------+----------------+--------------------+------------------+-----+----------+------+--------------------+--------------------+\n",
      "|            category|cogs|contains_caffeine|contains_fruit|contains_nuts|contains_veggies|          event_time|              item|price|product_id|  size|      meta_timestamp|       meta_filename|\n",
      "+--------------------+----+-----------------+--------------+-------------+----------------+--------------------+------------------+-----+----------+------+--------------------+--------------------+\n",
      "|Superfoods Smoothies| 2.1|            false|          true|        false|           false|2024-02-17 19:27:...|Pomegranate Plunge| 5.99|      SF04|24 oz.|2024-02-18 19:41:...|file:///home/pete...|\n",
      "|Superfoods Smoothies| 2.1|            false|          true|        false|            true|2024-02-17 19:27:...|Detox Island Green| 5.99|      SF07|24 oz.|2024-02-18 19:41:...|file:///home/pete...|\n",
      "|Superfoods Smoothies| 2.1|            false|          true|        false|           false|2024-02-17 19:32:...| Caribbean C-Burst| 5.99|      SF05|24 oz.|2024-02-18 19:43:...|file:///home/pete...|\n",
      "|Superfoods Smoothies| 2.1|            false|          true|        false|           false|2024-02-17 19:27:...| Caribbean C-Burst| 5.99|      SF05|24 oz.|2024-02-18 19:41:...|file:///home/pete...|\n",
      "| Indulgent Smoothies| 2.2|            false|         false|         true|           false|2024-02-17 19:27:...| Peanut Butter Cup| 5.49|      IS02|24 oz.|2024-02-18 19:42:...|file:///home/pete...|\n",
      "|Supercharged Smoo...| 2.7|             true|         false|         true|           false|2024-02-17 19:27:...|    Muscle Blaster| 5.99|      SC05|24 oz.|2024-02-18 19:42:...|file:///home/pete...|\n",
      "|   Classic Smoothies| 1.5|            false|          true|        false|           false|2024-02-17 19:32:...|Strawberry Limeade| 4.99|      CS09|24 oz.|2024-02-18 19:43:...|file:///home/pete...|\n",
      "|Superfoods Smoothies| 2.1|            false|          true|        false|            true|2024-02-17 19:32:...|     Totally Green| 5.99|      SF02|24 oz.|2024-02-18 19:43:...|file:///home/pete...|\n",
      "|Superfoods Smoothies| 2.1|            false|          true|        false|            true|2024-02-17 19:27:...|     Totally Green| 5.99|      SF02|24 oz.|2024-02-18 19:41:...|file:///home/pete...|\n",
      "|Supercharged Smoo...| 2.7|            false|         false|         true|           false|2024-02-17 19:27:...|        Health Nut| 5.99|      SC03|24 oz.|2024-02-18 19:42:...|file:///home/pete...|\n",
      "|   Classic Smoothies| 1.5|            false|          true|        false|           false|2024-02-17 19:32:...|   Blueberry Bliss| 4.99|      CS07|24 oz.|2024-02-18 19:43:...|file:///home/pete...|\n",
      "|   Classic Smoothies| 1.5|            false|          true|        false|           false|2024-02-17 19:32:...|    Paradise Point| 4.99|      CS03|24 oz.|2024-02-18 19:42:...|file:///home/pete...|\n",
      "|   Classic Smoothies| 1.5|            false|          true|        false|           false|2024-02-17 19:32:...|    Sunrise Sunset| 4.99|      CS01|24 oz.|2024-02-18 19:42:...|file:///home/pete...|\n",
      "| Indulgent Smoothies| 2.2|            false|          true|        false|           false|2024-02-17 19:32:...|       Bahama Mama| 5.49|      IS01|24 oz.|2024-02-18 19:44:...|file:///home/pete...|\n",
      "|   Classic Smoothies| 1.5|            false|          true|        false|           false|2024-02-17 19:27:...|       Jetty Punch| 4.99|      CS11|24 oz.|2024-02-18 19:41:...|file:///home/pete...|\n",
      "+--------------------+----+-----------------+--------------+-------------+----------------+--------------------+------------------+-----+----------+------+--------------------+--------------------+\n",
      "only showing top 15 rows\n",
      "\n"
     ]
    }
   ],
   "source": [
    "spark.sql(\"SELECT * FROM bronze_product\").show(15)"
   ]
  },
  {
   "cell_type": "markdown",
   "metadata": {},
   "source": [
    "# SLOWLY CHANGING DIMENSIONS (SCD) - TYPE 2"
   ]
  },
  {
   "cell_type": "code",
   "execution_count": 5,
   "metadata": {},
   "outputs": [],
   "source": [
    "\n",
    "from pyspark.sql.functions import md5, concat_ws, lit, row_number, monotonically_increasing_id\n",
    "from pyspark.sql.types import BooleanType, TimestampType\n",
    "from pyspark.sql.window import Window\n",
    "\n",
    "def silver_scd2_dim_table(source, target, merge_key, timestamp_key, surrogate_column_name):\n",
    "\n",
    "    # Get list of all columns that doesn't contain \"meta_\"\n",
    "    df = spark.sql(f\"select * from {source}\")\n",
    "    df = df.withColumn(\"meta_hashdiff\", md5(concat_ws(\"||\", *[c for c in df.columns if \"meta_\" not in c])))\n",
    "    df = df.withColumn(\"meta_is_current\", lit(1).cast(BooleanType()))\n",
    "    df = df.withColumn(\"meta_valid_from\", df[timestamp_key])\n",
    "    df = df.withColumn(\"meta_valid_to\", lit('9999-12-31').cast(TimestampType()))\n",
    "\n",
    "    # Add partition column\n",
    "    window_spec  = Window.partitionBy(merge_key).orderBy(timestamp_key)\n",
    "    df = df.withColumn(\"meta_sequence\", row_number().over(window_spec))\n",
    "    df = df.withColumn(surrogate_column_name, monotonically_increasing_id())\n",
    "\n",
    "    # Create an empty Delta table with the same schema\n",
    "    tmp_view_name = \"temporaryView\"\n",
    "    df.createOrReplaceTempView(tmp_view_name)\n",
    "    spark.sql(f\"CREATE TABLE IF NOT EXISTS {target} LIKE {tmp_view_name} USING DELTA\")\n",
    "\n",
    "    # Get list of sequences\n",
    "    lst_sequence = sorted([p.meta_sequence for p in df.select('meta_sequence').distinct().collect()])\n",
    "\n",
    "    # Run SCD2 table \n",
    "    for seq_num in lst_sequence:\n",
    "        merge_query = f\"\"\"\n",
    "            MERGE INTO {target} AS target\n",
    "            USING (\n",
    "                SELECT * FROM {tmp_view_name}\n",
    "                WHERE meta_sequence = {seq_num}\n",
    "            ) AS source ON target.{merge_key} = source.{merge_key}\n",
    "            WHEN MATCHED AND target.meta_is_current = true AND target.meta_hashdiff <> source.meta_hashdiff\n",
    "                THEN UPDATE SET meta_is_current = false, meta_valid_to = source.{timestamp_key}\n",
    "            WHEN NOT MATCHED \n",
    "                THEN INSERT *\n",
    "        \"\"\"\n",
    "\n",
    "        # Perform merge query\n",
    "        spark.sql(merge_query).show()\n",
    "\n",
    "        insert_query = f\"\"\"\n",
    "            INSERT INTO {target}\n",
    "            SELECT * FROM \n",
    "            (\n",
    "                SELECT source.* \n",
    "                FROM {tmp_view_name} source\n",
    "                JOIN {target} target ON target.{merge_key} = source.{merge_key}\n",
    "                WHERE source.meta_sequence = {seq_num}\n",
    "                AND target.meta_hashdiff <> source.meta_hashdiff \n",
    "            )\n",
    "        \"\"\"\n",
    "        \n",
    "        # Perform insert query\n",
    "        spark.sql(insert_query)"
   ]
  },
  {
   "cell_type": "code",
   "execution_count": 12,
   "metadata": {},
   "outputs": [
    {
     "name": "stdout",
     "output_type": "stream",
     "text": [
      "+-----------------+----------------+----------------+-----------------+\n",
      "|num_affected_rows|num_updated_rows|num_deleted_rows|num_inserted_rows|\n",
      "+-----------------+----------------+----------------+-----------------+\n",
      "|               27|               0|               0|               27|\n",
      "+-----------------+----------------+----------------+-----------------+\n",
      "\n",
      "+-----------------+----------------+----------------+-----------------+\n",
      "|num_affected_rows|num_updated_rows|num_deleted_rows|num_inserted_rows|\n",
      "+-----------------+----------------+----------------+-----------------+\n",
      "|               27|              27|               0|                0|\n",
      "+-----------------+----------------+----------------+-----------------+\n",
      "\n",
      "+-----------------+----------------+----------------+-----------------+\n",
      "|num_affected_rows|num_updated_rows|num_deleted_rows|num_inserted_rows|\n",
      "+-----------------+----------------+----------------+-----------------+\n",
      "|               27|              27|               0|                0|\n",
      "+-----------------+----------------+----------------+-----------------+\n",
      "\n"
     ]
    }
   ],
   "source": [
    "# Create SCD2 tables\n",
    "spark.sql(\"DROP TABLE IF EXISTS silver_product_scd2\")\n",
    "\n",
    "silver_scd2_dim_table(\n",
    "    source = \"bronze_product\",\n",
    "    target = \"silver_product_scd2\",\n",
    "    merge_key = \"product_id\",\n",
    "    timestamp_key = \"event_time\",\n",
    "    surrogate_column_name = \"product_sid\"\n",
    ")"
   ]
  },
  {
   "cell_type": "code",
   "execution_count": 13,
   "metadata": {},
   "outputs": [
    {
     "name": "stdout",
     "output_type": "stream",
     "text": [
      "+-----------------+----+-----------------+--------------+-------------+----------------+--------------------------+--------------+-----+----------+------+-----------------------+-----------------------------------------------------+--------------------------------+---------------+--------------------------+--------------------------+-------------+-----------+\n",
      "|category         |cogs|contains_caffeine|contains_fruit|contains_nuts|contains_veggies|event_time                |item          |price|product_id|size  |meta_timestamp         |meta_filename                                        |meta_hashdiff                   |meta_is_current|meta_valid_from           |meta_valid_to             |meta_sequence|product_sid|\n",
      "+-----------------+----+-----------------+--------------+-------------+----------------+--------------------------+--------------+-----+----------+------+-----------------------+-----------------------------------------------------+--------------------------------+---------------+--------------------------+--------------------------+-------------+-----------+\n",
      "|Classic Smoothies|1.5 |false            |true          |false        |false           |2024-02-17 19:27:38.159280|Sunrise Sunset|4.99 |CS01      |24 oz.|2024-02-18 19:40:49.697|file:///home/peter/data/product/1708198058159380.json|0147022bc45f64893ed3b75973da40c6|false          |2024-02-17 19:27:38.159280|2024-02-17 19:32:15.85849 |1            |0          |\n",
      "|Classic Smoothies|1.5 |false            |true          |false        |false           |2024-02-17 19:32:15.858490|Sunrise Sunset|4.99 |CS01      |24 oz.|2024-02-18 19:42:40.112|file:///home/peter/data/product/1708198335858613.json|7e286003f13bdbcfdcfffbb027d3603c|false          |2024-02-17 19:32:15.858490|2024-02-18 19:26:51.433027|2            |1          |\n",
      "|Classic Smoothies|1.5 |false            |true          |false        |false           |2024-02-18 19:26:51.433027|Sunrise Sunset|4.99 |CS01      |24 oz.|2024-02-18 19:45:22.408|file:///home/peter/data/product/1708284411433088.json|c990f060eb1d8354fff3291006acf530|true           |2024-02-18 19:26:51.433027|9999-12-31 00:00:00       |3            |2          |\n",
      "|Classic Smoothies|1.5 |false            |true          |false        |false           |2024-02-18 19:26:51.433027|Sunrise Sunset|4.99 |CS01      |24 oz.|2024-02-18 19:45:22.408|file:///home/peter/data/product/1708284411433088.json|c990f060eb1d8354fff3291006acf530|true           |2024-02-18 19:26:51.433027|9999-12-31 00:00:00       |3            |2          |\n",
      "|Classic Smoothies|1.5 |false            |true          |false        |false           |2024-02-17 19:27:38.164591|Kiwi Quencher |4.99 |CS02      |24 oz.|2024-02-18 19:40:53.371|file:///home/peter/data/product/1708198058164640.json|2323eb554a8a3025659576b6d6abb2c9|false          |2024-02-17 19:27:38.164591|2024-02-17 19:32:15.864915|1            |3          |\n",
      "|Classic Smoothies|1.5 |false            |true          |false        |false           |2024-02-17 19:32:15.864915|Kiwi Quencher |4.99 |CS02      |24 oz.|2024-02-18 19:42:44.792|file:///home/peter/data/product/1708198335864991.json|f08f11a6da8408b21e3466eecd92b61a|false          |2024-02-17 19:32:15.864915|2024-02-18 19:26:51.4351  |2            |4          |\n",
      "|Classic Smoothies|1.5 |false            |true          |false        |false           |2024-02-18 19:26:51.435100|Kiwi Quencher |4.99 |CS02      |24 oz.|2024-02-18 19:45:28.651|file:///home/peter/data/product/1708284411435142.json|0f95c5058e26c53a093c88fa01cb3308|true           |2024-02-18 19:26:51.435100|9999-12-31 00:00:00       |3            |5          |\n",
      "|Classic Smoothies|1.5 |false            |true          |false        |false           |2024-02-18 19:26:51.435100|Kiwi Quencher |4.99 |CS02      |24 oz.|2024-02-18 19:45:28.651|file:///home/peter/data/product/1708284411435142.json|0f95c5058e26c53a093c88fa01cb3308|true           |2024-02-18 19:26:51.435100|9999-12-31 00:00:00       |3            |5          |\n",
      "|Classic Smoothies|1.5 |false            |true          |false        |false           |2024-02-17 19:27:38.169361|Paradise Point|4.99 |CS03      |24 oz.|2024-02-18 19:40:56.902|file:///home/peter/data/product/1708198058169406.json|4c968a256ac4452652fcd1fe3a3f0ee9|false          |2024-02-17 19:27:38.169361|2024-02-17 19:32:15.870287|1            |6          |\n",
      "|Classic Smoothies|1.5 |false            |true          |false        |false           |2024-02-17 19:32:15.870287|Paradise Point|4.99 |CS03      |24 oz.|2024-02-18 19:42:49.562|file:///home/peter/data/product/1708198335870385.json|84a5fe3c04d27fda819ded431cc3b0b9|false          |2024-02-17 19:32:15.870287|2024-02-18 19:26:51.437204|2            |7          |\n",
      "+-----------------+----+-----------------+--------------+-------------+----------------+--------------------------+--------------+-----+----------+------+-----------------------+-----------------------------------------------------+--------------------------------+---------------+--------------------------+--------------------------+-------------+-----------+\n",
      "only showing top 10 rows\n",
      "\n"
     ]
    }
   ],
   "source": [
    "spark.sql(\"select * from silver_product_scd2 order by product_sid\").show(10, truncate=False)"
   ]
  },
  {
   "cell_type": "markdown",
   "metadata": {},
   "source": [
    "# Creating Silver Fact Streaming Tables"
   ]
  },
  {
   "cell_type": "code",
   "execution_count": 39,
   "metadata": {},
   "outputs": [],
   "source": [
    "from util_functions import generate_dim_table_references, get_cols_to_front\n",
    "\n",
    "\n",
    "def silver_fact_table(\n",
    "    source : str, \n",
    "    target : str,\n",
    "    natural_key : str,\n",
    "    surrogate_key : str,\n",
    "    timestamp_key : str,\n",
    "    dim_table_refs : dict\n",
    "):\n",
    "\n",
    "    # Generate \n",
    "    sql_query_str = generate_dim_table_references(source, timestamp_key, dim_table_refs)\n",
    "\n",
    "    # \n",
    "    df = spark.sql(sql_query_str)\n",
    "\n",
    "    # Generate surrogate key\n",
    "    df = df.withColumn(surrogate_key, monotonically_increasing_id())\n",
    "\n",
    "    # Reorder columns\n",
    "    df = get_cols_to_front(\n",
    "        df=df, \n",
    "        columns_to_front=[surrogate_key, natural_key] + [row[\"surrogate_key\"] for row in dim_table_refs],\n",
    "        columns_to_delete=[\"meta_filename\"]\n",
    "    )\n",
    "\n",
    "    df.show(5)\n"
   ]
  },
  {
   "cell_type": "code",
   "execution_count": 41,
   "metadata": {},
   "outputs": [
    {
     "name": "stdout",
     "output_type": "stream",
     "text": [
      "SELECT src.*, silver_product_scd2.product_sid \n",
      "FROM bronze_purchase src\n",
      "LEFT JOIN silver_product_scd2 ON silver_product_scd2.product_id = src.product_id\n",
      "        AND src.transaction_time BETWEEN silver_product_scd2.meta_valid_from AND silver_product_scd2.meta_valid_to\n",
      "+---------------+-------------------+-----------+---------------+---------+---------------+--------------------+-----+----------+--------+----------------+--------------+--------------------+\n",
      "|transaction_sid|     transaction_id|product_sid|add_supplements|is_member|member_discount|      meta_timestamp|price|product_id|quantity|supplement_price|total_purchase|    transaction_time|\n",
      "+---------------+-------------------+-----------+---------------+---------+---------------+--------------------+-----+----------+--------+----------------+--------------+--------------------+\n",
      "|              0|4455419090920518032|         36|           true|    false|            0.0|2024-02-18 19:41:...| 5.49|      IS02|       1|            1.99|          7.48|2024-02-17 19:28:...|\n",
      "|              1|8410045580366810633|         13|          false|    false|            0.0|2024-02-18 19:49:...| 4.99|      CS05|       1|             0.0|          4.99|2024-02-17 19:34:...|\n",
      "|              2|4198072269626437631|         25|          false|    false|            0.0|2024-02-18 19:52:...| 4.99|      CS09|       1|             0.0|          4.99|2024-02-17 19:34:...|\n",
      "|              3|4052503263711236769|         14|          false|    false|            0.0|2024-02-18 19:59:...| 4.99|      CS05|       1|             0.0|          4.99|2024-02-18 19:27:...|\n",
      "|              4|4052503263711236769|         14|          false|    false|            0.0|2024-02-18 19:59:...| 4.99|      CS05|       1|             0.0|          4.99|2024-02-18 19:27:...|\n",
      "+---------------+-------------------+-----------+---------------+---------+---------------+--------------------+-----+----------+--------+----------------+--------------+--------------------+\n",
      "only showing top 5 rows\n",
      "\n"
     ]
    }
   ],
   "source": [
    "source=\"bronze_purchase\"\n",
    "target=\"silver_purchase\"\n",
    "surrogate_key = \"transaction_sid\"\n",
    "timestamp_key = \"transaction_time\"\n",
    "\n",
    "silver_fact_table (\n",
    "    source=\"bronze_purchase\",\n",
    "    target=\"silver_purchase\",\n",
    "    natural_key=\"transaction_id\",\n",
    "    surrogate_key=\"transaction_sid\",\n",
    "    timestamp_key=\"transaction_time\",\n",
    "    dim_table_refs=[{\"table_name\": \"silver_product_scd2\", \"merge_key\": \"product_id\", \"surrogate_key\": \"product_sid\"}]\n",
    ")\n",
    "\n",
    "# if spark.catalog.tableExists(target):\n",
    "#     df = spark.sql(f\"SELECT * FROM {source} WHERE {source}.{timestamp_key} > (SELECT MAX({timestamp_key}) FROM {target})\")\n",
    "# else:\n",
    "#     df = spark.sql(f\"SELECT * FROM {source}\")\n",
    "\n"
   ]
  }
 ],
 "metadata": {
  "kernelspec": {
   "display_name": "vscode_pyspark",
   "language": "python",
   "name": "vscode_pyspark"
  },
  "language_info": {
   "codemirror_mode": {
    "name": "ipython",
    "version": 3
   },
   "file_extension": ".py",
   "mimetype": "text/x-python",
   "name": "python",
   "nbconvert_exporter": "python",
   "pygments_lexer": "ipython3",
   "version": "3.11.7"
  }
 },
 "nbformat": 4,
 "nbformat_minor": 2
}
