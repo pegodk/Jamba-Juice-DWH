{
 "cells": [
  {
   "cell_type": "markdown",
   "metadata": {},
   "source": [
    "# INTRODUCTION"
   ]
  },
  {
   "cell_type": "code",
   "execution_count": null,
   "metadata": {},
   "outputs": [],
   "source": [
    "\n",
    "# Import SparkSession\n",
    "import pyspark\n",
    "from delta import configure_spark_with_delta_pip\n",
    "\n",
    "builder = pyspark.sql.SparkSession.builder.appName(\"STREAMING_DWH\") \\\n",
    "    .config(\"spark.sql.extensions\", \"io.delta.sql.DeltaSparkSessionExtension\") \\\n",
    "    .config(\"spark.sql.catalog.spark_catalog\", \"org.apache.spark.sql.delta.catalog.DeltaCatalog\")\n",
    "\n",
    "spark = configure_spark_with_delta_pip(builder).getOrCreate()\n"
   ]
  },
  {
   "cell_type": "code",
   "execution_count": null,
   "metadata": {},
   "outputs": [],
   "source": [
    "# To allow automatic schemaInference while reading\n",
    "spark.conf.set(\"spark.sql.streaming.schemaInference\", True)\n",
    "\n",
    "# Create the streaming_df to read from input directory\n",
    "streaming_df = spark \\\n",
    "    .readStream \\\n",
    "    .format(\"json\") \\\n",
    "    .option(\"maxFilesPerTrigger\", 1) \\\n",
    "    .load(\"data/product/\")\n",
    "\n",
    "streaming_df.printSchema()"
   ]
  },
  {
   "cell_type": "code",
   "execution_count": null,
   "metadata": {},
   "outputs": [],
   "source": [
    "# # Define database schemas - Bronze, Silver, Gold\n",
    "# spark.sql(\"CREATE SCHEMA IF NOT EXISTS bronze;\")\n",
    "# spark.sql(\"CREATE SCHEMA IF NOT EXISTS silver;\")\n",
    "# spark.sql(\"CREATE SCHEMA IF NOT EXISTS gold;\")\n",
    "# spark.sql(\"USE SCHEMA bronze;\")"
   ]
  },
  {
   "cell_type": "code",
   "execution_count": null,
   "metadata": {},
   "outputs": [],
   "source": [
    "from pyspark.sql.functions import current_timestamp, input_file_name\n",
    "\n",
    "def raw_ingestion(schema_name, table_name):\n",
    "    # Generates a source path based on table name, reads all files from that and inserts into bronze schema\n",
    "\n",
    "    query = (\n",
    "        spark.readStream\n",
    "        .format(\"json\")\n",
    "        .option(\"maxFilesPerTrigger\", 1)\n",
    "        .load(f\"data/{table_name}\")\n",
    "        .withColumn(\"meta_timestamp\", current_timestamp())\n",
    "        .withColumn(\"meta_filename\", input_file_name())\n",
    "        .writeStream\n",
    "        .outputMode(\"append\")\n",
    "        .format(\"delta\")\n",
    "        .option(\"checkpointLocation\", f\"spark-warehouse/_checkpoints/{schema_name}_{table_name}\")\n",
    "        .toTable(f\"{schema_name}_{table_name}\")\n",
    "    )\n",
    "    return query\n",
    "\n",
    "query1 = raw_ingestion(schema_name=\"bronze\", table_name=\"inventory\")\n",
    "query2 = raw_ingestion(schema_name=\"bronze\", table_name=\"product\")\n",
    "query3 = raw_ingestion(schema_name=\"bronze\", table_name=\"purchase\")\n",
    "\n",
    "# Use the code \n",
    "# spark.streams.awaitAnyTermination()\n"
   ]
  },
  {
   "cell_type": "code",
   "execution_count": null,
   "metadata": {},
   "outputs": [],
   "source": [
    "spark.sql(\"SELECT * FROM bronze_product\").show(15)"
   ]
  },
  {
   "cell_type": "markdown",
   "metadata": {},
   "source": [
    "# SLOWLY CHANGING DIMENSIONS (SCD) - TYPE 2"
   ]
  },
  {
   "cell_type": "code",
   "execution_count": 83,
   "metadata": {},
   "outputs": [],
   "source": [
    "\n",
    "from pyspark.sql.functions import md5, concat_ws, lit, row_number, monotonically_increasing_id\n",
    "from pyspark.sql.types import BooleanType, TimestampType\n",
    "from pyspark.sql.window import Window\n",
    "\n",
    "def silver_scd2_dim_table(source, target, merge_key, timestamp_key, surrogate_column_name):\n",
    "\n",
    "    # Get list of all columns that doesn't contain \"meta_\"\n",
    "    df = spark.sql(f\"select * from {source}\")\n",
    "    df = df.withColumn(\"meta_hashdiff\", md5(concat_ws(\"||\", *[c for c in df.columns if \"meta_\" not in c])))\n",
    "    df = df.withColumn(\"meta_is_current\", lit(1).cast(BooleanType()))\n",
    "    df = df.withColumn(\"meta_valid_from\", df[timestamp_key])\n",
    "    df = df.withColumn(\"meta_valid_to\", lit('9999-12-31').cast(TimestampType()))\n",
    "\n",
    "    # Add partition column\n",
    "    window_spec  = Window.partitionBy(merge_key).orderBy(timestamp_key)\n",
    "    df = df.withColumn(\"meta_sequence\", row_number().over(window_spec))\n",
    "    df = df.withColumn(surrogate_column_name, monotonically_increasing_id())\n",
    "\n",
    "    # Create an empty Delta table with the same schema\n",
    "    tmp_view_name = \"temporaryView\"\n",
    "    df.createOrReplaceTempView(tmp_view_name)\n",
    "    spark.sql(f\"CREATE TABLE IF NOT EXISTS {target} LIKE {tmp_view_name} USING DELTA\")\n",
    "\n",
    "    # Get list of sequences\n",
    "    lst_sequence = sorted([p.meta_sequence for p in df.select('meta_sequence').distinct().collect()])\n",
    "\n",
    "    # Run SCD2 table \n",
    "    for seq_num in lst_sequence:\n",
    "        merge_query = f\"\"\"\n",
    "            MERGE INTO {target} AS target\n",
    "            USING (\n",
    "                SELECT * FROM {tmp_view_name}\n",
    "                WHERE meta_sequence = {seq_num}\n",
    "            ) AS source ON target.{merge_key} = source.{merge_key}\n",
    "            WHEN MATCHED AND target.meta_is_current = true AND target.meta_hashdiff <> source.meta_hashdiff\n",
    "                THEN UPDATE SET meta_is_current = false, meta_valid_to = source.{timestamp_key}\n",
    "            WHEN NOT MATCHED \n",
    "                THEN INSERT *\n",
    "        \"\"\"\n",
    "\n",
    "        insert_query = f\"\"\"\n",
    "            INSERT INTO {target}\n",
    "            SELECT * FROM \n",
    "            (\n",
    "                SELECT source.* \n",
    "                FROM {tmp_view_name} source\n",
    "                JOIN {target} target ON target.{merge_key} = source.{merge_key}\n",
    "                WHERE source.meta_sequence = {seq_num}\n",
    "                AND target.meta_hashdiff <> source.meta_hashdiff \n",
    "            )\n",
    "        \"\"\"\n",
    "        \n",
    "        # print(merge_query)\n",
    "        spark.sql(merge_query).show()\n",
    "        spark.sql(insert_query)"
   ]
  },
  {
   "cell_type": "code",
   "execution_count": 84,
   "metadata": {},
   "outputs": [
    {
     "name": "stdout",
     "output_type": "stream",
     "text": [
      "+-----------------+----------------+----------------+-----------------+\n",
      "|num_affected_rows|num_updated_rows|num_deleted_rows|num_inserted_rows|\n",
      "+-----------------+----------------+----------------+-----------------+\n",
      "|               27|               0|               0|               27|\n",
      "+-----------------+----------------+----------------+-----------------+\n",
      "\n",
      "+-----------------+----------------+----------------+-----------------+\n",
      "|num_affected_rows|num_updated_rows|num_deleted_rows|num_inserted_rows|\n",
      "+-----------------+----------------+----------------+-----------------+\n",
      "|               27|              27|               0|                0|\n",
      "+-----------------+----------------+----------------+-----------------+\n",
      "\n"
     ]
    }
   ],
   "source": [
    "# Create SCD2 tables\n",
    "spark.sql(\"DROP TABLE IF EXISTS silver_product_scd2\")\n",
    "\n",
    "silver_scd2_dim_table(\n",
    "    source = \"bronze_product\",\n",
    "    target = \"silver_product_scd2\",\n",
    "    merge_key = \"product_id\",\n",
    "    timestamp_key = \"event_time\",\n",
    "    surrogate_column_name = \"product_sid\"\n",
    ")"
   ]
  },
  {
   "cell_type": "code",
   "execution_count": 86,
   "metadata": {},
   "outputs": [
    {
     "name": "stdout",
     "output_type": "stream",
     "text": [
      "+----------------------+----+-----------------+--------------+-------------+----------------+--------------------------+------------------+-----+----------+------+-----------------------+-----------------------------------------------------+--------------------------------+---------------+--------------------------+--------------------------+-------------+-----------+\n",
      "|category              |cogs|contains_caffeine|contains_fruit|contains_nuts|contains_veggies|event_time                |item              |price|product_id|size  |meta_timestamp         |meta_filename                                        |meta_hashdiff                   |meta_is_current|meta_valid_from           |meta_valid_to             |meta_sequence|product_sid|\n",
      "+----------------------+----+-----------------+--------------+-------------+----------------+--------------------------+------------------+-----+----------+------+-----------------------+-----------------------------------------------------+--------------------------------+---------------+--------------------------+--------------------------+-------------+-----------+\n",
      "|Classic Smoothies     |1.5 |false            |true          |false        |false           |2024-02-17 19:27:38.159280|Sunrise Sunset    |4.99 |CS01      |24 oz.|2024-02-18 08:57:51.027|file:///home/peter/data/product/1708198058159380.json|0147022bc45f64893ed3b75973da40c6|false          |2024-02-17 19:27:38.159280|2024-02-17 19:32:15.85849 |1            |0          |\n",
      "|Classic Smoothies     |1.5 |false            |true          |false        |false           |2024-02-17 19:32:15.858490|Sunrise Sunset    |4.99 |CS01      |24 oz.|2024-02-18 08:59:36.673|file:///home/peter/data/product/1708198335858613.json|7e286003f13bdbcfdcfffbb027d3603c|true           |2024-02-17 19:32:15.858490|9999-12-31 00:00:00       |2            |1          |\n",
      "|Classic Smoothies     |1.5 |false            |true          |false        |false           |2024-02-17 19:27:38.164591|Kiwi Quencher     |4.99 |CS02      |24 oz.|2024-02-18 08:57:55.329|file:///home/peter/data/product/1708198058164640.json|2323eb554a8a3025659576b6d6abb2c9|false          |2024-02-17 19:27:38.164591|2024-02-17 19:32:15.864915|1            |2          |\n",
      "|Classic Smoothies     |1.5 |false            |true          |false        |false           |2024-02-17 19:32:15.864915|Kiwi Quencher     |4.99 |CS02      |24 oz.|2024-02-18 08:59:41.594|file:///home/peter/data/product/1708198335864991.json|f08f11a6da8408b21e3466eecd92b61a|true           |2024-02-17 19:32:15.864915|9999-12-31 00:00:00       |2            |3          |\n",
      "|Classic Smoothies     |1.5 |false            |true          |false        |false           |2024-02-17 19:27:38.169361|Paradise Point    |4.99 |CS03      |24 oz.|2024-02-18 08:57:58.635|file:///home/peter/data/product/1708198058169406.json|4c968a256ac4452652fcd1fe3a3f0ee9|false          |2024-02-17 19:27:38.169361|2024-02-17 19:32:15.870287|1            |4          |\n",
      "|Classic Smoothies     |1.5 |false            |true          |false        |false           |2024-02-17 19:32:15.870287|Paradise Point    |4.99 |CS03      |24 oz.|2024-02-18 08:59:46.281|file:///home/peter/data/product/1708198335870385.json|84a5fe3c04d27fda819ded431cc3b0b9|true           |2024-02-17 19:32:15.870287|9999-12-31 00:00:00       |2            |5          |\n",
      "|Classic Smoothies     |1.5 |false            |true          |false        |false           |2024-02-17 19:27:38.174798|Sunny Day         |4.99 |CS04      |24 oz.|2024-02-18 08:58:01.518|file:///home/peter/data/product/1708198058174863.json|d36b4c98ab98dbfda4504eb4e1bd9a78|false          |2024-02-17 19:27:38.174798|2024-02-17 19:32:15.877521|1            |6          |\n",
      "|Classic Smoothies     |1.5 |false            |true          |false        |false           |2024-02-17 19:32:15.877521|Sunny Day         |4.99 |CS04      |24 oz.|2024-02-18 08:59:52.544|file:///home/peter/data/product/1708198335877581.json|a26b6c0124aa7d4fb25d2b00e30d4abb|true           |2024-02-17 19:32:15.877521|9999-12-31 00:00:00       |2            |7          |\n",
      "|Classic Smoothies     |1.5 |false            |true          |false        |false           |2024-02-17 19:27:38.181315|Mango Magic       |4.99 |CS05      |24 oz.|2024-02-18 08:58:04.296|file:///home/peter/data/product/1708198058181371.json|a61592521f1ea72a1c0e1d431a03702e|false          |2024-02-17 19:27:38.181315|2024-02-17 19:32:15.884635|1            |8          |\n",
      "|Classic Smoothies     |1.5 |false            |true          |false        |false           |2024-02-17 19:32:15.884635|Mango Magic       |4.99 |CS05      |24 oz.|2024-02-18 08:59:57.7  |file:///home/peter/data/product/1708198335884711.json|60a0176065012066288d6dd559e3ad54|true           |2024-02-17 19:32:15.884635|9999-12-31 00:00:00       |2            |9          |\n",
      "|Classic Smoothies     |1.5 |false            |true          |false        |false           |2024-02-17 19:27:38.186888|Blimey Limey      |4.99 |CS06      |24 oz.|2024-02-18 08:58:07.173|file:///home/peter/data/product/1708198058186956.json|010dbd90cd8779f9316ed15faea68a9b|false          |2024-02-17 19:27:38.186888|2024-02-17 19:32:15.890414|1            |10         |\n",
      "|Classic Smoothies     |1.5 |false            |true          |false        |false           |2024-02-17 19:32:15.890414|Blimey Limey      |4.99 |CS06      |24 oz.|2024-02-18 09:00:02.707|file:///home/peter/data/product/1708198335890524.json|fb50b8a6e9943c8e07099ff41f3e1e83|true           |2024-02-17 19:32:15.890414|9999-12-31 00:00:00       |2            |11         |\n",
      "|Classic Smoothies     |1.5 |false            |true          |false        |false           |2024-02-17 19:27:38.191860|Blueberry Bliss   |4.99 |CS07      |24 oz.|2024-02-18 08:58:10.23 |file:///home/peter/data/product/1708198058191938.json|54c13da6e14a155b9da9886c4dd6eba6|false          |2024-02-17 19:27:38.191860|2024-02-17 19:32:15.898115|1            |12         |\n",
      "|Classic Smoothies     |1.5 |false            |true          |false        |false           |2024-02-17 19:32:15.898115|Blueberry Bliss   |4.99 |CS07      |24 oz.|2024-02-18 09:00:07.264|file:///home/peter/data/product/1708198335898301.json|234a41250aba8a38e3d291a8a9205ba3|true           |2024-02-17 19:32:15.898115|9999-12-31 00:00:00       |2            |13         |\n",
      "|Classic Smoothies     |1.5 |false            |true          |false        |false           |2024-02-17 19:27:38.198617|Rockin’ Raspberry |4.99 |CS08      |24 oz.|2024-02-18 08:58:13.079|file:///home/peter/data/product/1708198058198673.json|368ad02ff185416ee1537f287ed39d5d|false          |2024-02-17 19:27:38.198617|2024-02-17 19:32:15.905255|1            |14         |\n",
      "|Classic Smoothies     |1.5 |false            |true          |false        |false           |2024-02-17 19:32:15.905255|Rockin’ Raspberry |4.99 |CS08      |24 oz.|2024-02-18 09:00:11.866|file:///home/peter/data/product/1708198335905349.json|96302a26dab65f4eda942b2582c8e52a|true           |2024-02-17 19:32:15.905255|9999-12-31 00:00:00       |2            |15         |\n",
      "|Classic Smoothies     |1.5 |false            |true          |false        |false           |2024-02-17 19:27:38.204198|Strawberry Limeade|4.99 |CS09      |24 oz.|2024-02-18 08:58:16.087|file:///home/peter/data/product/1708198058204241.json|0b3da81562edbeff3a69a2254c2bbd7d|false          |2024-02-17 19:27:38.204198|2024-02-17 19:32:15.91205 |1            |16         |\n",
      "|Classic Smoothies     |1.5 |false            |true          |false        |false           |2024-02-17 19:32:15.912050|Strawberry Limeade|4.99 |CS09      |24 oz.|2024-02-18 09:00:16.796|file:///home/peter/data/product/1708198335912148.json|9a07c8f1b1573c19353a944c6775b7c7|true           |2024-02-17 19:32:15.912050|9999-12-31 00:00:00       |2            |17         |\n",
      "|Classic Smoothies     |1.5 |false            |true          |false        |false           |2024-02-17 19:27:38.209159|Peaches ‘n Silk   |4.99 |CS10      |24 oz.|2024-02-18 08:58:19.276|file:///home/peter/data/product/1708198058209222.json|ccfee152839590857e021b35c53e93e6|false          |2024-02-17 19:27:38.209159|2024-02-17 19:32:15.91973 |1            |18         |\n",
      "|Classic Smoothies     |1.5 |false            |true          |false        |false           |2024-02-17 19:32:15.919730|Peaches ‘n Silk   |4.99 |CS10      |24 oz.|2024-02-18 09:00:21.672|file:///home/peter/data/product/1708198335919791.json|5c82d33bb3d1e9d103c2dd4feda0a1c7|true           |2024-02-17 19:32:15.919730|9999-12-31 00:00:00       |2            |19         |\n",
      "|Classic Smoothies     |1.5 |false            |true          |false        |false           |2024-02-17 19:27:38.214580|Jetty Punch       |4.99 |CS11      |24 oz.|2024-02-18 08:58:23.843|file:///home/peter/data/product/1708198058214631.json|52db46033a77a8c5483162e1bf0c015d|false          |2024-02-17 19:27:38.214580|2024-02-17 19:32:15.925507|1            |20         |\n",
      "|Classic Smoothies     |1.5 |false            |true          |false        |false           |2024-02-17 19:32:15.925507|Jetty Punch       |4.99 |CS11      |24 oz.|2024-02-18 09:00:26.862|file:///home/peter/data/product/1708198335925587.json|2e2a0ddb13fce88afe192cafbf014d89|true           |2024-02-17 19:32:15.925507|9999-12-31 00:00:00       |2            |21         |\n",
      "|Indulgent Smoothies   |2.2 |false            |true          |false        |false           |2024-02-17 19:27:38.279803|Bahama Mama       |5.49 |IS01      |24 oz.|2024-02-18 08:59:17.89 |file:///home/peter/data/product/1708198058279853.json|1519450c2dde18a030d571fbea91a9bc|false          |2024-02-17 19:27:38.279803|2024-02-17 19:32:16.010784|1            |22         |\n",
      "|Indulgent Smoothies   |2.2 |false            |true          |false        |false           |2024-02-17 19:32:16.010784|Bahama Mama       |5.49 |IS01      |24 oz.|2024-02-18 09:01:38.354|file:///home/peter/data/product/1708198336010862.json|62100bb9e4a89df1ad52a4370896ef6a|true           |2024-02-17 19:32:16.010784|9999-12-31 00:00:00       |2            |23         |\n",
      "|Indulgent Smoothies   |2.2 |false            |false         |true         |false           |2024-02-17 19:27:38.284730|Peanut Butter Cup |5.49 |IS02      |24 oz.|2024-02-18 08:59:22.127|file:///home/peter/data/product/1708198058284846.json|100f9787a4aaba8828cd321f1ac76435|false          |2024-02-17 19:27:38.284730|2024-02-17 19:32:16.017603|1            |24         |\n",
      "|Indulgent Smoothies   |2.2 |false            |false         |true         |false           |2024-02-17 19:32:16.017603|Peanut Butter Cup |5.49 |IS02      |24 oz.|2024-02-18 09:01:45.049|file:///home/peter/data/product/1708198336017668.json|2e67abad3fc237eaabcfbaa3de0f8d61|true           |2024-02-17 19:32:16.017603|9999-12-31 00:00:00       |2            |25         |\n",
      "|Indulgent Smoothies   |2.2 |false            |true          |false        |true            |2024-02-17 19:27:38.289153|Beach Bum         |5.49 |IS03      |24 oz.|2024-02-18 08:59:26.176|file:///home/peter/data/product/1708198058289207.json|0c90aae0eea1684ec1976ba6a0d5582b|false          |2024-02-17 19:27:38.289153|2024-02-17 19:32:16.023005|1            |26         |\n",
      "|Indulgent Smoothies   |2.2 |false            |true          |false        |true            |2024-02-17 19:32:16.023005|Beach Bum         |5.49 |IS03      |24 oz.|2024-02-18 09:01:50.908|file:///home/peter/data/product/1708198336023061.json|c740df9b9fba278646f45d73ce6b1de7|true           |2024-02-17 19:32:16.023005|9999-12-31 00:00:00       |2            |27         |\n",
      "|Indulgent Smoothies   |2.2 |true             |false         |true         |false           |2024-02-17 19:27:38.294438|Mocha Madness     |5.49 |IS04      |24 oz.|2024-02-18 08:59:30.487|file:///home/peter/data/product/1708198058294489.json|181414610d136a3117263bf8e468104d|false          |2024-02-17 19:27:38.294438|2024-02-17 19:32:16.028791|1            |28         |\n",
      "|Indulgent Smoothies   |2.2 |true             |false         |true         |false           |2024-02-17 19:32:16.028791|Mocha Madness     |5.49 |IS04      |24 oz.|2024-02-18 09:01:56.604|file:///home/peter/data/product/1708198336028843.json|8448f12a88c14541505bc106b63a608d|true           |2024-02-17 19:32:16.028791|9999-12-31 00:00:00       |2            |29         |\n",
      "|Supercharged Smoothies|2.7 |false            |true          |false        |false           |2024-02-17 19:27:38.255120|Triple Berry Oat  |5.99 |SC01      |24 oz.|2024-02-18 08:58:53.301|file:///home/peter/data/product/1708198058255172.json|5ff3160d534f4a6013382a5f5412be18|false          |2024-02-17 19:27:38.255120|2024-02-17 19:32:15.978411|1            |30         |\n",
      "|Supercharged Smoothies|2.7 |false            |true          |false        |false           |2024-02-17 19:32:15.978411|Triple Berry Oat  |5.99 |SC01      |24 oz.|2024-02-18 09:01:09.863|file:///home/peter/data/product/1708198335978483.json|b21261d928d77693545b410e11a5f2ac|true           |2024-02-17 19:32:15.978411|9999-12-31 00:00:00       |2            |31         |\n",
      "|Supercharged Smoothies|2.7 |false            |false         |false        |false           |2024-02-17 19:27:38.259787|Peanut Paradise   |5.99 |SC02      |24 oz.|2024-02-18 08:58:58.045|file:///home/peter/data/product/1708198058259846.json|8f2a2b24efb0c1bd5f386993aad402a6|false          |2024-02-17 19:27:38.259787|2024-02-17 19:32:15.986125|1            |32         |\n",
      "|Supercharged Smoothies|2.7 |false            |false         |false        |false           |2024-02-17 19:32:15.986125|Peanut Paradise   |5.99 |SC02      |24 oz.|2024-02-18 09:01:15.031|file:///home/peter/data/product/1708198335986191.json|df116ed338aed6035f95b72be43a3718|true           |2024-02-17 19:32:15.986125|9999-12-31 00:00:00       |2            |33         |\n",
      "|Supercharged Smoothies|2.7 |false            |false         |true         |false           |2024-02-17 19:27:38.264573|Health Nut        |5.99 |SC03      |24 oz.|2024-02-18 08:59:04.269|file:///home/peter/data/product/1708198058264626.json|e6f7c7a101610da87046a0ace7838881|false          |2024-02-17 19:27:38.264573|2024-02-17 19:32:15.991788|1            |34         |\n",
      "|Supercharged Smoothies|2.7 |false            |false         |true         |false           |2024-02-17 19:32:15.991788|Health Nut        |5.99 |SC03      |24 oz.|2024-02-18 09:01:20.504|file:///home/peter/data/product/1708198335991922.json|ae75c0325cd39eb3fb16f95622d441cf|true           |2024-02-17 19:32:15.991788|9999-12-31 00:00:00       |2            |35         |\n",
      "|Supercharged Smoothies|2.7 |true             |false         |true         |true            |2024-02-17 19:27:38.269623|Lean Machine      |5.99 |SC04      |24 oz.|2024-02-18 08:59:09.682|file:///home/peter/data/product/1708198058269667.json|80658d89bc392c8cb1f3dd1b6be34945|false          |2024-02-17 19:27:38.269623|2024-02-17 19:32:15.997756|1            |36         |\n",
      "|Supercharged Smoothies|2.7 |true             |false         |true         |true            |2024-02-17 19:32:15.997756|Lean Machine      |5.99 |SC04      |24 oz.|2024-02-18 09:01:25.839|file:///home/peter/data/product/1708198335997852.json|8988e3e2067ac4d60f03239503ede5dc|true           |2024-02-17 19:32:15.997756|9999-12-31 00:00:00       |2            |37         |\n",
      "|Supercharged Smoothies|2.7 |true             |false         |true         |false           |2024-02-17 19:27:38.274886|Muscle Blaster    |5.99 |SC05      |24 oz.|2024-02-18 08:59:13.755|file:///home/peter/data/product/1708198058274944.json|33622cf280bad8da18e3415b7ba15bc1|false          |2024-02-17 19:27:38.274886|2024-02-17 19:32:16.00445 |1            |38         |\n",
      "|Supercharged Smoothies|2.7 |true             |false         |true         |false           |2024-02-17 19:32:16.004450|Muscle Blaster    |5.99 |SC05      |24 oz.|2024-02-18 09:01:31.108|file:///home/peter/data/product/1708198336004525.json|30b49c429e486a7f227cf3a8774f99e7|true           |2024-02-17 19:32:16.004450|9999-12-31 00:00:00       |2            |39         |\n",
      "|Superfoods Smoothies  |2.1 |false            |true          |false        |true            |2024-02-17 19:27:38.219851|Island Green      |5.99 |SF01      |24 oz.|2024-02-18 08:58:28.286|file:///home/peter/data/product/1708198058219896.json|46a877223e3c1f223e7ab2a9dca76a3d|false          |2024-02-17 19:27:38.219851|2024-02-17 19:32:15.931266|1            |40         |\n",
      "|Superfoods Smoothies  |2.1 |false            |true          |false        |true            |2024-02-17 19:32:15.931266|Island Green      |5.99 |SF01      |24 oz.|2024-02-18 09:00:31.669|file:///home/peter/data/product/1708198335931338.json|618a675ba4294badddaef09007827744|true           |2024-02-17 19:32:15.931266|9999-12-31 00:00:00       |2            |41         |\n",
      "|Superfoods Smoothies  |2.1 |false            |true          |false        |true            |2024-02-17 19:27:38.224277|Totally Green     |5.99 |SF02      |24 oz.|2024-02-18 08:58:31.646|file:///home/peter/data/product/1708198058224347.json|7147ceec46c0ba8a0c862d435191bb7b|false          |2024-02-17 19:27:38.224277|2024-02-17 19:32:15.938267|1            |42         |\n",
      "|Superfoods Smoothies  |2.1 |false            |true          |false        |true            |2024-02-17 19:32:15.938267|Totally Green     |5.99 |SF02      |24 oz.|2024-02-18 09:00:36.674|file:///home/peter/data/product/1708198335938340.json|702b3136f38cecc8706395e205123a25|true           |2024-02-17 19:32:15.938267|9999-12-31 00:00:00       |2            |43         |\n",
      "|Superfoods Smoothies  |2.1 |false            |true          |false        |false           |2024-02-17 19:27:38.230481|Acai Berry Boost  |5.99 |SF03      |24 oz.|2024-02-18 08:58:34.785|file:///home/peter/data/product/1708198058230528.json|ce3e596dfa08601758760720aa61c1a0|false          |2024-02-17 19:27:38.230481|2024-02-17 19:32:15.946411|1            |44         |\n",
      "|Superfoods Smoothies  |2.1 |false            |true          |false        |false           |2024-02-17 19:32:15.946411|Acai Berry Boost  |5.99 |SF03      |24 oz.|2024-02-18 09:00:43.564|file:///home/peter/data/product/1708198335946506.json|d554d8b85f0a3856f9a796e9b68963c7|true           |2024-02-17 19:32:15.946411|9999-12-31 00:00:00       |2            |45         |\n",
      "|Superfoods Smoothies  |2.1 |false            |true          |false        |false           |2024-02-17 19:27:38.235679|Pomegranate Plunge|5.99 |SF04      |24 oz.|2024-02-18 08:58:38.057|file:///home/peter/data/product/1708198058235727.json|c259690eedc78db12dc98653681ceec6|false          |2024-02-17 19:27:38.235679|2024-02-17 19:32:15.953493|1            |46         |\n",
      "|Superfoods Smoothies  |2.1 |false            |true          |false        |false           |2024-02-17 19:32:15.953493|Pomegranate Plunge|5.99 |SF04      |24 oz.|2024-02-18 09:00:49.576|file:///home/peter/data/product/1708198335953575.json|c862b1ec88a8ef35e845d38eac516f40|true           |2024-02-17 19:32:15.953493|9999-12-31 00:00:00       |2            |47         |\n",
      "|Superfoods Smoothies  |2.1 |false            |true          |false        |false           |2024-02-17 19:27:38.240107|Caribbean C-Burst |5.99 |SF05      |24 oz.|2024-02-18 08:58:41.624|file:///home/peter/data/product/1708198058240156.json|b07e721e29f95483426db698c631a286|false          |2024-02-17 19:27:38.240107|2024-02-17 19:32:15.960488|1            |48         |\n",
      "|Superfoods Smoothies  |2.1 |false            |true          |false        |false           |2024-02-17 19:32:15.960488|Caribbean C-Burst |5.99 |SF05      |24 oz.|2024-02-18 09:00:54.871|file:///home/peter/data/product/1708198335960550.json|5aa2f47aa836b0f101e0d4a1c30a6d9e|true           |2024-02-17 19:32:15.960488|9999-12-31 00:00:00       |2            |49         |\n",
      "+----------------------+----+-----------------+--------------+-------------+----------------+--------------------------+------------------+-----+----------+------+-----------------------+-----------------------------------------------------+--------------------------------+---------------+--------------------------+--------------------------+-------------+-----------+\n",
      "only showing top 50 rows\n",
      "\n"
     ]
    }
   ],
   "source": [
    "spark.sql(\"select * from silver_product_scd2 order by product_sid\").show(10, truncate=False)"
   ]
  },
  {
   "cell_type": "markdown",
   "metadata": {},
   "source": [
    "# Creating Silver Fact Streaming Tables"
   ]
  },
  {
   "cell_type": "code",
   "execution_count": 85,
   "metadata": {},
   "outputs": [
    {
     "name": "stdout",
     "output_type": "stream",
     "text": [
      "+---------------+---------+---------------+-----+----------+--------+----------------+--------------+-------------------+--------------------+--------------------+--------------------+-----------+---------------+\n",
      "|add_supplements|is_member|member_discount|price|product_id|quantity|supplement_price|total_purchase|     transaction_id|    transaction_time|      meta_timestamp|       meta_filename|product_sid|transaction_sid|\n",
      "+---------------+---------+---------------+-----+----------+--------+----------------+--------------+-------------------+--------------------+--------------------+--------------------+-----------+---------------+\n",
      "|          false|    false|            0.0| 4.99|      CS01|       1|             0.0|          4.99|5926375728195155676|2024-02-17 19:33:...|2024-02-18 09:02:...|file:///home/pete...|          1|              0|\n",
      "|          false|    false|            0.0| 4.99|      CS07|       1|             0.0|          4.99|3843411071104270264|2024-02-17 19:33:...|2024-02-18 09:03:...|file:///home/pete...|         13|              1|\n",
      "|           true|    false|            0.0| 5.49|      IS02|       1|            1.99|          7.48|4455419090920518032|2024-02-17 19:28:...|2024-02-18 08:58:...|file:///home/pete...|         24|              2|\n",
      "|          false|    false|            0.0| 4.99|      CS03|       1|             0.0|          4.99|2433134076374660421|2024-02-17 19:34:...|2024-02-18 09:09:...|file:///home/pete...|          5|              3|\n",
      "|          false|    false|            0.0| 5.49|      IS04|       1|             0.0|          5.49|1247169080166844079|2024-02-17 19:28:...|2024-02-18 08:58:...|file:///home/pete...|         28|              4|\n",
      "+---------------+---------+---------------+-----+----------+--------+----------------+--------------+-------------------+--------------------+--------------------+--------------------+-----------+---------------+\n",
      "only showing top 5 rows\n",
      "\n"
     ]
    }
   ],
   "source": [
    "source=\"bronze_purchase\"\n",
    "target=\"silver_purchase\"\n",
    "timestamp_key = \"transaction_time\"\n",
    "surrogate_column_name = \"transaction_sid\"\n",
    "\n",
    "# if spark.catalog.tableExists(target):\n",
    "#     df = spark.sql(f\"SELECT * FROM {source} WHERE {source}.{timestamp_key} > (SELECT MAX({timestamp_key}) FROM {target})\")\n",
    "# else:\n",
    "#     df = spark.sql(f\"SELECT * FROM {source}\")\n",
    "\n",
    "df = spark.sql(\n",
    "    f\"\"\"\n",
    "    SELECT source.*, prod.product_sid\n",
    "    FROM {source} source\n",
    "    LEFT JOIN silver_product_scd2 prod ON prod.product_id = source.product_id\n",
    "        AND source.transaction_time BETWEEN prod.meta_valid_from AND prod.meta_valid_to\n",
    "    \"\"\")\n",
    "df = df.withColumn(surrogate_column_name, monotonically_increasing_id())\n",
    "\n",
    "df.show(5)\n"
   ]
  }
 ],
 "metadata": {
  "kernelspec": {
   "display_name": "vscode_pyspark",
   "language": "python",
   "name": "vscode_pyspark"
  },
  "language_info": {
   "codemirror_mode": {
    "name": "ipython",
    "version": 3
   },
   "file_extension": ".py",
   "mimetype": "text/x-python",
   "name": "python",
   "nbconvert_exporter": "python",
   "pygments_lexer": "ipython3",
   "version": "3.11.7"
  }
 },
 "nbformat": 4,
 "nbformat_minor": 2
}
