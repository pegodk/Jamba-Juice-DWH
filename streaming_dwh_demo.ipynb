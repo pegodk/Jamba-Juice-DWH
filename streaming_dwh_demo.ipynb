{
 "cells": [
  {
   "cell_type": "markdown",
   "metadata": {},
   "source": [
    "# INTRODUCTION"
   ]
  },
  {
   "cell_type": "code",
   "execution_count": 1,
   "metadata": {},
   "outputs": [],
   "source": [
    "\n",
    "# Import SparkSession\n",
    "import pyspark\n",
    "from delta import configure_spark_with_delta_pip\n",
    "\n",
    "builder = pyspark.sql.SparkSession.builder.appName(\"STREAMING_DWH\") \\\n",
    "    .config(\"spark.sql.extensions\", \"io.delta.sql.DeltaSparkSessionExtension\") \\\n",
    "    .config(\"spark.sql.catalog.spark_catalog\", \"org.apache.spark.sql.delta.catalog.DeltaCatalog\")\n",
    "\n",
    "spark = configure_spark_with_delta_pip(builder).enableHiveSupport().getOrCreate()\n"
   ]
  },
  {
   "cell_type": "code",
   "execution_count": 2,
   "metadata": {},
   "outputs": [
    {
     "name": "stdout",
     "output_type": "stream",
     "text": [
      "root\n",
      " |-- category: string (nullable = true)\n",
      " |-- cogs: double (nullable = true)\n",
      " |-- contains_caffeine: boolean (nullable = true)\n",
      " |-- contains_fruit: boolean (nullable = true)\n",
      " |-- contains_nuts: boolean (nullable = true)\n",
      " |-- contains_veggies: boolean (nullable = true)\n",
      " |-- event_time: string (nullable = true)\n",
      " |-- item: string (nullable = true)\n",
      " |-- price: double (nullable = true)\n",
      " |-- product_id: string (nullable = true)\n",
      " |-- size: string (nullable = true)\n",
      "\n"
     ]
    }
   ],
   "source": [
    "# To allow automatic schemaInference while reading\n",
    "spark.conf.set(\"spark.sql.streaming.schemaInference\", True)\n",
    "\n",
    "# Create the streaming_df to read from input directory\n",
    "df = spark \\\n",
    "    .readStream \\\n",
    "    .format(\"json\") \\\n",
    "    .load(\"data/product/\")\n",
    "\n",
    "df.printSchema()"
   ]
  },
  {
   "cell_type": "code",
   "execution_count": 3,
   "metadata": {},
   "outputs": [],
   "source": [
    "from pyspark.sql.functions import current_timestamp, input_file_name\n",
    "\n",
    "def create_bronze_streaming_table(source, target):\n",
    "    # Generates a source path based on table name, reads all files from that and inserts into bronze schema\n",
    "\n",
    "    query = (\n",
    "        spark.readStream\n",
    "        .format(\"json\")\n",
    "        .load(source)\n",
    "        .withColumn(\"meta_ingestion_ts\", current_timestamp())\n",
    "        .withColumn(\"meta_filename\", input_file_name())\n",
    "        .writeStream\n",
    "        .outputMode(\"append\")\n",
    "        .format(\"delta\")\n",
    "        .option(\"checkpointLocation\", f\"spark-warehouse/_checkpoints/{target}\")\n",
    "        .toTable(target)\n",
    "    )\n",
    "    return query\n",
    "\n",
    "query1 = create_bronze_streaming_table(source=\"data/inventory\", target=\"bronze_inventory\")\n",
    "query2 = create_bronze_streaming_table(source=\"data/product\", target=\"bronze_product\")\n",
    "query3 = create_bronze_streaming_table(source=\"data/purchase\", target=\"bronze_purchase\")\n",
    "\n",
    "# Use the code \n",
    "# spark.streams.awaitAnyTermination()\n"
   ]
  },
  {
   "cell_type": "code",
   "execution_count": 4,
   "metadata": {},
   "outputs": [
    {
     "name": "stdout",
     "output_type": "stream",
     "text": [
      "+-------------------+----+-----------------+--------------+-------------+----------------+--------------------+------------+-----+----------+------+--------------------+--------------------+\n",
      "|           category|cogs|contains_caffeine|contains_fruit|contains_nuts|contains_veggies|          event_time|        item|price|product_id|  size|   meta_ingestion_ts|       meta_filename|\n",
      "+-------------------+----+-----------------+--------------+-------------+----------------+--------------------+------------+-----+----------+------+--------------------+--------------------+\n",
      "|  Classic Smoothies| 1.5|            false|          true|        false|           false|2024-02-17 19:27:...|Blimey Limey| 4.99|      CS06|24 oz.|2024-02-21 18:13:...|file:///home/pete...|\n",
      "|  Classic Smoothies| 1.5|            false|          true|        false|           false|2024-02-17 19:32:...|Blimey Limey| 4.99|      CS06|24 oz.|2024-02-21 18:13:...|file:///home/pete...|\n",
      "|  Classic Smoothies| 1.5|            false|          true|        false|           false|2024-02-18 19:26:...|Blimey Limey| 4.99|      CS06|24 oz.|2024-02-21 18:13:...|file:///home/pete...|\n",
      "|  Classic Smoothies| 1.5|            false|          true|        false|           false|2024-02-17 19:27:...| Mango Magic| 4.99|      CS05|24 oz.|2024-02-21 18:13:...|file:///home/pete...|\n",
      "|  Classic Smoothies| 1.5|            false|          true|        false|           false|2024-02-17 19:27:...| Jetty Punch| 4.99|      CS11|24 oz.|2024-02-21 18:13:...|file:///home/pete...|\n",
      "|  Classic Smoothies| 1.5|            false|          true|        false|           false|2024-02-17 19:32:...| Mango Magic| 4.99|      CS05|24 oz.|2024-02-21 18:13:...|file:///home/pete...|\n",
      "|  Classic Smoothies| 1.5|            false|          true|        false|           false|2024-02-17 19:32:...| Jetty Punch| 4.99|      CS11|24 oz.|2024-02-21 18:13:...|file:///home/pete...|\n",
      "|  Classic Smoothies| 1.5|            false|          true|        false|           false|2024-02-18 19:26:...| Mango Magic| 4.99|      CS05|24 oz.|2024-02-21 18:13:...|file:///home/pete...|\n",
      "|  Classic Smoothies| 1.5|            false|          true|        false|           false|2024-02-18 19:26:...| Jetty Punch| 4.99|      CS11|24 oz.|2024-02-21 18:13:...|file:///home/pete...|\n",
      "|Indulgent Smoothies| 2.2|            false|          true|        false|            true|2024-02-17 19:27:...|   Beach Bum| 5.49|      IS03|24 oz.|2024-02-21 18:13:...|file:///home/pete...|\n",
      "+-------------------+----+-----------------+--------------+-------------+----------------+--------------------+------------+-----+----------+------+--------------------+--------------------+\n",
      "only showing top 10 rows\n",
      "\n"
     ]
    }
   ],
   "source": [
    "spark.sql(\"SELECT * FROM bronze_product\").show(10)"
   ]
  },
  {
   "cell_type": "markdown",
   "metadata": {},
   "source": [
    "# SILVER TABLES: SLOWLY CHANGING DIMENSIONS (SCD) - TYPE 1 & 2"
   ]
  },
  {
   "cell_type": "code",
   "execution_count": 7,
   "metadata": {},
   "outputs": [],
   "source": [
    "from pyspark.sql.functions import md5, concat_ws, lit, row_number, monotonically_increasing_id\n",
    "from pyspark.sql.types import BooleanType, TimestampType\n",
    "from pyspark.sql.window import Window\n",
    "from utils import reorder_columns_in_dataframe\n",
    "\n",
    "def create_silver_scd1_table(\n",
    "    source : str, \n",
    "    target : str,\n",
    "    timestamp_key : str,\n",
    "    merge_key: str,\n",
    "    surrogate_key : str\n",
    "):\n",
    "\n",
    "    # Load data and calculate hashdiff string based on all columns that doesn't contain \"meta_\" in the name\n",
    "    df = spark.sql(f\"select * from {source} order by {timestamp_key}\")\n",
    "    df = df.withColumn(\"meta_hashdiff\", md5(concat_ws(\"||\", *[c for c in df.columns if \"meta_\" not in c])))\n",
    "\n",
    "    # Set default values for meta_last_updated\n",
    "    df = df.withColumn(\"meta_last_updated\", current_timestamp())\n",
    "\n",
    "    # Generate surrogate key\n",
    "    df = df.withColumn(surrogate_key, monotonically_increasing_id())\n",
    "\n",
    "    # Calculate sequence numbers if source data contain multiple rows for each merge_key\n",
    "    window_spec = Window.partitionBy(merge_key).orderBy(timestamp_key)\n",
    "    df = df.withColumn(\"meta_sequence\", row_number().over(window_spec))\n",
    "\n",
    "    # Reorder columns\n",
    "    df = reorder_columns_in_dataframe(df=df, \n",
    "                                      columns_to_front=[surrogate_key],\n",
    "                                      columns_to_back=[c for c in df.columns if \"meta_\" in c],\n",
    "                                      columns_to_delete=[\"meta_filename\"])\n",
    "    \n",
    "    # Create an empty Delta table with the same schema\n",
    "    tmp_view_name = \"temporaryView\"\n",
    "    df.createOrReplaceTempView(tmp_view_name)\n",
    "    spark.sql(f\"CREATE TABLE IF NOT EXISTS {target} LIKE {tmp_view_name} USING DELTA\")\n",
    "\n",
    "    # Get list of sequences\n",
    "    lst_sequence = sorted([p.meta_sequence for p in df.select('meta_sequence').distinct().collect()])\n",
    "\n",
    "    # Run SCD1 table\n",
    "    for seq_num in lst_sequence:\n",
    "        merge_query = f\"\"\"\n",
    "            MERGE INTO {target} AS target\n",
    "            USING (\n",
    "                SELECT * FROM {tmp_view_name}\n",
    "                WHERE meta_sequence = {seq_num}\n",
    "            ) AS source ON target.{surrogate_key} = source.{surrogate_key}\n",
    "            WHEN MATCHED AND target.meta_hashdiff <> source.meta_hashdiff\n",
    "                THEN UPDATE SET *\n",
    "            WHEN NOT MATCHED \n",
    "                THEN INSERT *\n",
    "        \"\"\"\n",
    "        spark.sql(merge_query).show()\n"
   ]
  },
  {
   "cell_type": "code",
   "execution_count": 6,
   "metadata": {},
   "outputs": [
    {
     "ename": "NameError",
     "evalue": "name 'merge_key' is not defined",
     "output_type": "error",
     "traceback": [
      "\u001b[0;31m---------------------------------------------------------------------------\u001b[0m",
      "\u001b[0;31mNameError\u001b[0m                                 Traceback (most recent call last)",
      "Cell \u001b[0;32mIn[6], line 1\u001b[0m\n\u001b[0;32m----> 1\u001b[0m \u001b[43mcreate_silver_scd1_table\u001b[49m\u001b[43m \u001b[49m\u001b[43m(\u001b[49m\n\u001b[1;32m      2\u001b[0m \u001b[43m    \u001b[49m\u001b[43msource\u001b[49m\u001b[38;5;241;43m=\u001b[39;49m\u001b[38;5;124;43m\"\u001b[39;49m\u001b[38;5;124;43mbronze_purchase\u001b[39;49m\u001b[38;5;124;43m\"\u001b[39;49m\u001b[43m,\u001b[49m\n\u001b[1;32m      3\u001b[0m \u001b[43m    \u001b[49m\u001b[43mtarget\u001b[49m\u001b[38;5;241;43m=\u001b[39;49m\u001b[38;5;124;43m\"\u001b[39;49m\u001b[38;5;124;43msilver_purchase_scd1\u001b[39;49m\u001b[38;5;124;43m\"\u001b[39;49m\u001b[43m,\u001b[49m\n\u001b[1;32m      4\u001b[0m \u001b[43m    \u001b[49m\u001b[43mtimestamp_key\u001b[49m\u001b[38;5;241;43m=\u001b[39;49m\u001b[38;5;124;43m\"\u001b[39;49m\u001b[38;5;124;43mtransaction_time\u001b[39;49m\u001b[38;5;124;43m\"\u001b[39;49m\u001b[43m,\u001b[49m\n\u001b[1;32m      5\u001b[0m \u001b[43m    \u001b[49m\u001b[43msurrogate_key\u001b[49m\u001b[38;5;241;43m=\u001b[39;49m\u001b[38;5;124;43m\"\u001b[39;49m\u001b[38;5;124;43mtransaction_sid\u001b[39;49m\u001b[38;5;124;43m\"\u001b[39;49m\u001b[43m,\u001b[49m\n\u001b[1;32m      6\u001b[0m \u001b[43m)\u001b[49m\n\u001b[1;32m      8\u001b[0m create_silver_scd1_table (\n\u001b[1;32m      9\u001b[0m     source\u001b[38;5;241m=\u001b[39m\u001b[38;5;124m\"\u001b[39m\u001b[38;5;124mbronze_inventory\u001b[39m\u001b[38;5;124m\"\u001b[39m,\n\u001b[1;32m     10\u001b[0m     target\u001b[38;5;241m=\u001b[39m\u001b[38;5;124m\"\u001b[39m\u001b[38;5;124msilver_inventory_scd1\u001b[39m\u001b[38;5;124m\"\u001b[39m,\n\u001b[1;32m     11\u001b[0m     timestamp_key\u001b[38;5;241m=\u001b[39m\u001b[38;5;124m\"\u001b[39m\u001b[38;5;124mevent_time\u001b[39m\u001b[38;5;124m\"\u001b[39m,\n\u001b[1;32m     12\u001b[0m     surrogate_key\u001b[38;5;241m=\u001b[39m\u001b[38;5;124m\"\u001b[39m\u001b[38;5;124minventory_sid\u001b[39m\u001b[38;5;124m\"\u001b[39m,\n\u001b[1;32m     13\u001b[0m )\n",
      "Cell \u001b[0;32mIn[5], line 24\u001b[0m, in \u001b[0;36mcreate_silver_scd1_table\u001b[0;34m(source, target, timestamp_key, surrogate_key)\u001b[0m\n\u001b[1;32m     21\u001b[0m df \u001b[38;5;241m=\u001b[39m df\u001b[38;5;241m.\u001b[39mwithColumn(surrogate_key, monotonically_increasing_id())\n\u001b[1;32m     23\u001b[0m \u001b[38;5;66;03m# Calculate sequence numbers if source data contain multiple rows for each merge_key\u001b[39;00m\n\u001b[0;32m---> 24\u001b[0m window_spec \u001b[38;5;241m=\u001b[39m Window\u001b[38;5;241m.\u001b[39mpartitionBy(\u001b[43mmerge_key\u001b[49m)\u001b[38;5;241m.\u001b[39morderBy(timestamp_key)\n\u001b[1;32m     25\u001b[0m df \u001b[38;5;241m=\u001b[39m df\u001b[38;5;241m.\u001b[39mwithColumn(\u001b[38;5;124m\"\u001b[39m\u001b[38;5;124mmeta_sequence\u001b[39m\u001b[38;5;124m\"\u001b[39m, row_number()\u001b[38;5;241m.\u001b[39mover(window_spec))\n\u001b[1;32m     27\u001b[0m \u001b[38;5;66;03m# Reorder columns\u001b[39;00m\n",
      "\u001b[0;31mNameError\u001b[0m: name 'merge_key' is not defined"
     ]
    }
   ],
   "source": [
    "\n",
    "create_silver_scd1_table (\n",
    "    source=\"bronze_purchase\",\n",
    "    target=\"silver_purchase_scd1\",\n",
    "    timestamp_key=\"transaction_time\",\n",
    "    merge_key=\"transaction_id\",\n",
    "    surrogate_key=\"transaction_sid\",\n",
    ")\n",
    "\n",
    "create_silver_scd1_table (\n",
    "    source=\"bronze_inventory\",\n",
    "    target=\"silver_inventory_scd1\",\n",
    "    timestamp_key=\"event_time\",\n",
    "    merge_key=\"event_time\",\n",
    "    surrogate_key=\"inventory_sid\",\n",
    ")"
   ]
  },
  {
   "cell_type": "code",
   "execution_count": null,
   "metadata": {},
   "outputs": [],
   "source": [
    "def create_silver_scd2_table(source, target, merge_key, timestamp_key, surrogate_key):\n",
    "\n",
    "    # Load data and calculate hashdiff string based on all columns that doesn't contain \"meta_\" in the name\n",
    "    df = spark.sql(f\"select * from {source}\")\n",
    "    df = df.withColumn(\"meta_hashdiff\", md5(concat_ws(\"||\", *[c for c in df.columns if \"meta_\" not in c])))\n",
    "\n",
    "    # Set default values for meta columns\n",
    "    df = df.withColumn(\"meta_is_current\", lit(1).cast(BooleanType()))\n",
    "    df = df.withColumn(\"meta_valid_from\", df[timestamp_key])\n",
    "    df = df.withColumn(\"meta_valid_to\", lit('9999-12-31').cast(TimestampType()))\n",
    "\n",
    "    # Calculate surrogate key\n",
    "    df = df.withColumn(surrogate_key, monotonically_increasing_id())\n",
    "\n",
    "    # Calculate sequence numbers if source data contain multiple rows for each merge_key\n",
    "    window_spec = Window.partitionBy(merge_key).orderBy(timestamp_key)\n",
    "    df = df.withColumn(\"meta_sequence\", row_number().over(window_spec))\n",
    "\n",
    "    # Reorder columns in dataframe\n",
    "    df = reorder_columns_in_dataframe(\n",
    "        df=df, \n",
    "        columns_to_front=[surrogate_key, merge_key],\n",
    "        columns_to_back=[c for c in df.columns if \"meta_\" in c],\n",
    "        columns_to_delete=[\"meta_filename\"]\n",
    "    )\n",
    "\n",
    "    # Create an empty Delta table with the same schema\n",
    "    tmp_view_name = \"temporaryView\"\n",
    "    df.createOrReplaceTempView(tmp_view_name)\n",
    "    spark.sql(f\"CREATE TABLE IF NOT EXISTS {target} LIKE {tmp_view_name} USING DELTA\")\n",
    "\n",
    "    # Get list of sequences\n",
    "    lst_sequence = sorted([p.meta_sequence for p in df.select('meta_sequence').distinct().collect()])\n",
    "\n",
    "    # Run SCD2 table \n",
    "    for seq_num in lst_sequence:\n",
    "        merge_query = f\"\"\"\n",
    "            MERGE INTO {target} AS target\n",
    "            USING (\n",
    "                SELECT * FROM {tmp_view_name}\n",
    "                WHERE meta_sequence = {seq_num}\n",
    "            ) AS source ON target.{merge_key} = source.{merge_key}\n",
    "            WHEN MATCHED AND target.meta_is_current = true AND target.meta_hashdiff <> source.meta_hashdiff\n",
    "                THEN UPDATE SET meta_is_current = false, meta_valid_to = source.{timestamp_key}\n",
    "            WHEN NOT MATCHED \n",
    "                THEN INSERT *\n",
    "        \"\"\"\n",
    "        spark.sql(merge_query).show()\n",
    "\n",
    "        insert_query = f\"\"\"\n",
    "            INSERT INTO {target}\n",
    "            SELECT * FROM \n",
    "            (\n",
    "                SELECT source.* \n",
    "                FROM {tmp_view_name} source\n",
    "                JOIN {target} target ON target.{merge_key} = source.{merge_key}\n",
    "                WHERE source.meta_sequence = {seq_num}\n",
    "                AND target.meta_hashdiff <> source.meta_hashdiff \n",
    "            )\n",
    "        \"\"\"\n",
    "        spark.sql(insert_query)"
   ]
  },
  {
   "cell_type": "code",
   "execution_count": null,
   "metadata": {},
   "outputs": [
    {
     "name": "stdout",
     "output_type": "stream",
     "text": [
      "+-----------------+----------------+----------------+-----------------+\n",
      "|num_affected_rows|num_updated_rows|num_deleted_rows|num_inserted_rows|\n",
      "+-----------------+----------------+----------------+-----------------+\n",
      "|             1836|            1836|               0|                0|\n",
      "+-----------------+----------------+----------------+-----------------+\n",
      "\n",
      "+-----------------+----------------+----------------+-----------------+\n",
      "|num_affected_rows|num_updated_rows|num_deleted_rows|num_inserted_rows|\n",
      "+-----------------+----------------+----------------+-----------------+\n",
      "|             3375|            3375|               0|                0|\n",
      "+-----------------+----------------+----------------+-----------------+\n",
      "\n",
      "+-----------------+----------------+----------------+-----------------+\n",
      "|num_affected_rows|num_updated_rows|num_deleted_rows|num_inserted_rows|\n",
      "+-----------------+----------------+----------------+-----------------+\n",
      "|             6210|            6210|               0|                0|\n",
      "+-----------------+----------------+----------------+-----------------+\n",
      "\n"
     ]
    }
   ],
   "source": [
    "# Create SCD2 tables\n",
    "create_silver_scd2_table(\n",
    "    source = \"bronze_product\",\n",
    "    target = \"silver_product_scd2\",\n",
    "    merge_key = \"product_id\",\n",
    "    timestamp_key = \"event_time\",\n",
    "    surrogate_key = \"product_sid\"\n",
    ")"
   ]
  },
  {
   "cell_type": "code",
   "execution_count": null,
   "metadata": {},
   "outputs": [
    {
     "name": "stdout",
     "output_type": "stream",
     "text": [
      "+---------------+---------------+---------+---------------+-----+----------+--------+----------------+--------------+-------------------+--------------------+--------------------+--------------------+--------------------+\n",
      "|transaction_sid|add_supplements|is_member|member_discount|price|product_id|quantity|supplement_price|total_purchase|     transaction_id|    transaction_time|   meta_ingestion_ts|       meta_hashdiff|   meta_last_updated|\n",
      "+---------------+---------------+---------+---------------+-----+----------+--------+----------------+--------------+-------------------+--------------------+--------------------+--------------------+--------------------+\n",
      "|              0|          false|     true|            0.1| 5.99|      SC01|       2|             0.0|         10.78|7834327577162374633|2024-02-17 19:27:...|2024-02-21 17:49:...|1dcc0482982a754c3...|2024-02-21 17:51:...|\n",
      "|              1|           true|    false|            0.0| 5.99|      SF06|       1|            1.99|          7.98|3911541148186362968|2024-02-17 19:27:...|2024-02-21 17:49:...|016e84022be7b3336...|2024-02-21 17:51:...|\n",
      "|              2|           true|    false|            0.0| 5.99|      SF04|       1|            1.99|          7.98|9121246476561420786|2024-02-17 19:27:...|2024-02-21 17:49:...|507d4a501cede377d...|2024-02-21 17:51:...|\n",
      "|              3|           true|    false|            0.0| 5.49|      IS04|       1|            1.99|          7.48| 541572303998980881|2024-02-17 19:27:...|2024-02-21 17:49:...|e6fc0914fce1fdec3...|2024-02-21 17:51:...|\n",
      "|              4|           true|    false|            0.0| 4.99|      CS07|       2|            1.99|         13.96|1830085331582317580|2024-02-17 19:27:...|2024-02-21 17:49:...|61f75a7278ee6b97a...|2024-02-21 17:51:...|\n",
      "+---------------+---------------+---------+---------------+-----+----------+--------+----------------+--------------+-------------------+--------------------+--------------------+--------------------+--------------------+\n",
      "only showing top 5 rows\n",
      "\n",
      "+-------------+--------------------+--------------+---------+----------+--------------+--------------------+--------------------+--------------------+\n",
      "|inventory_sid|          event_time|existing_level|new_level|product_id|stock_quantity|   meta_ingestion_ts|       meta_hashdiff|   meta_last_updated|\n",
      "+-------------+--------------------+--------------+---------+----------+--------------+--------------------+--------------------+--------------------+\n",
      "|            0|2024-02-17 19:27:...|            34|       44|      SC01|            10|2024-02-21 17:49:...|b193b27f72a8685a4...|2024-02-21 17:51:...|\n",
      "|            1|2024-02-17 19:27:...|            49|       59|      SF06|            10|2024-02-21 17:49:...|af9f74edf7247d629...|2024-02-21 17:51:...|\n",
      "|            2|2024-02-17 19:27:...|            48|       58|      SF04|            10|2024-02-21 17:49:...|d079350b537000225...|2024-02-21 17:51:...|\n",
      "|            3|2024-02-17 19:27:...|            34|       44|      SC03|            10|2024-02-21 17:49:...|3e82e56264b0286a1...|2024-02-21 17:51:...|\n",
      "|            4|2024-02-17 19:28:...|            48|       58|      SF05|            10|2024-02-21 17:49:...|21b50d574f833ce25...|2024-02-21 17:51:...|\n",
      "+-------------+--------------------+--------------+---------+----------+--------------+--------------------+--------------------+--------------------+\n",
      "only showing top 5 rows\n",
      "\n",
      "+-----------+----------+-----------------+----+-----------------+--------------+-------------+----------------+--------------------+---------------+-----+------+--------------------+--------------------+---------------+--------------------+--------------------+-------------+\n",
      "|product_sid|product_id|         category|cogs|contains_caffeine|contains_fruit|contains_nuts|contains_veggies|          event_time|           item|price|  size|   meta_ingestion_ts|       meta_hashdiff|meta_is_current|     meta_valid_from|       meta_valid_to|meta_sequence|\n",
      "+-----------+----------+-----------------+----+-----------------+--------------+-------------+----------------+--------------------+---------------+-----+------+--------------------+--------------------+---------------+--------------------+--------------------+-------------+\n",
      "|          0|      CS07|Classic Smoothies| 1.5|            false|          true|        false|           false|2024-02-18 19:26:...|Blueberry Bliss| 4.99|24 oz.|2024-02-21 17:49:...|15cc375354ec3db62...|           true|2024-02-18 19:26:...| 9999-12-31 00:00:00|            3|\n",
      "|          0|      CS07|Classic Smoothies| 1.5|            false|          true|        false|           false|2024-02-18 19:26:...|Blueberry Bliss| 4.99|24 oz.|2024-02-21 17:49:...|15cc375354ec3db62...|          false|2024-02-18 19:26:...|2024-02-17 19:27:...|            3|\n",
      "|          0|      CS07|Classic Smoothies| 1.5|            false|          true|        false|           false|2024-02-18 19:26:...|Blueberry Bliss| 4.99|24 oz.|2024-02-21 17:49:...|15cc375354ec3db62...|           true|2024-02-18 19:26:...| 9999-12-31 00:00:00|            3|\n",
      "|          0|      CS07|Classic Smoothies| 1.5|            false|          true|        false|           false|2024-02-18 19:26:...|Blueberry Bliss| 4.99|24 oz.|2024-02-21 17:49:...|15cc375354ec3db62...|          false|2024-02-18 19:26:...|2024-02-17 19:27:...|            3|\n",
      "|          0|      CS07|Classic Smoothies| 1.5|            false|          true|        false|           false|2024-02-18 19:26:...|Blueberry Bliss| 4.99|24 oz.|2024-02-21 17:49:...|15cc375354ec3db62...|           true|2024-02-18 19:26:...| 9999-12-31 00:00:00|            3|\n",
      "+-----------+----------+-----------------+----+-----------------+--------------+-------------+----------------+--------------------+---------------+-----+------+--------------------+--------------------+---------------+--------------------+--------------------+-------------+\n",
      "only showing top 5 rows\n",
      "\n"
     ]
    }
   ],
   "source": [
    "spark.sql(\"select * from silver_purchase_scd1\").show(5)\n",
    "spark.sql(\"select * from silver_inventory_scd1\").show(5)\n",
    "spark.sql(\"select * from silver_product_scd2 order by product_sid\").show(5)"
   ]
  },
  {
   "cell_type": "code",
   "execution_count": null,
   "metadata": {},
   "outputs": [],
   "source": [
    "\n",
    "# def create_gold_dimension_table():\n"
   ]
  },
  {
   "cell_type": "code",
   "execution_count": null,
   "metadata": {},
   "outputs": [],
   "source": [
    "from utils import generate_dim_table_references\n",
    "\n",
    "def create_gold_fact_table(\n",
    "    source : str, \n",
    "    target : str,\n",
    "    surrogate_key : str,\n",
    "    timestamp_key : str,\n",
    "    dim_table_refs : dict\n",
    "):\n",
    "\n",
    "    # Generate and run SQL query\n",
    "    df = spark.sql(generate_dim_table_references(source, timestamp_key, dim_table_refs))\n",
    "\n",
    "    # Reorder columns in dataframe\n",
    "    df = reorder_columns_in_dataframe(\n",
    "        df=df, \n",
    "        columns_to_front=[surrogate_key] + [r[\"surrogate_key\"] for r in dim_table_refs],\n",
    "        columns_to_back=[c for c in df.columns if \"meta_\" in c]\n",
    "    )\n",
    "\n",
    "    # Create an empty Delta table with the same schema\n",
    "    tmp_view_name = \"temporaryView\"\n",
    "    df.createOrReplaceTempView(tmp_view_name)\n",
    "    spark.sql(f\"CREATE TABLE IF NOT EXISTS {target} LIKE {tmp_view_name} USING DELTA\")\n",
    "\n",
    "    # Merge into target table \n",
    "    merge_query = f\"\"\"\n",
    "        MERGE INTO {target} AS target\n",
    "        USING {tmp_view_name} AS source ON target.{surrogate_key} = source.{surrogate_key}\n",
    "        WHEN MATCHED AND target.meta_hashdiff <> source.meta_hashdiff THEN UPDATE SET *\n",
    "        WHEN NOT MATCHED THEN INSERT *\n",
    "    \"\"\"\n",
    "    spark.sql(merge_query).show()\n",
    "    "
   ]
  },
  {
   "cell_type": "code",
   "execution_count": null,
   "metadata": {},
   "outputs": [
    {
     "name": "stdout",
     "output_type": "stream",
     "text": [
      "SELECT src.*, silver_product_scd2.product_sid \n",
      "FROM silver_purchase_scd1 src\n",
      "LEFT JOIN silver_product_scd2 ON silver_product_scd2.product_id = src.product_id\n",
      "        AND src.transaction_time BETWEEN silver_product_scd2.meta_valid_from AND silver_product_scd2.meta_valid_to\n"
     ]
    },
    {
     "ename": "AnalysisException",
     "evalue": "[UNRESOLVED_COLUMN.WITH_SUGGESTION] A column or function parameter with name `meta_sequence` cannot be resolved. Did you mean one of the following? [`src`.`price`, `src`.`quantity`, `src`.`is_member`, `src`.`meta_hashdiff`, `src`.`meta_last_updated`].;\n'Project ['meta_sequence]\n+- Project [transaction_sid#36896L, product_sid#36910L, add_supplements#36897, is_member#36898, member_discount#36899, price#36900, product_id#36901, quantity#36902L, supplement_price#36903, total_purchase#36904, transaction_id#36905, transaction_time#36906, meta_ingestion_ts#36907, meta_hashdiff#36908, meta_last_updated#36909]\n   +- Project [transaction_sid#36896L, add_supplements#36897, is_member#36898, member_discount#36899, price#36900, product_id#36901, quantity#36902L, supplement_price#36903, total_purchase#36904, transaction_id#36905, transaction_time#36906, meta_ingestion_ts#36907, meta_hashdiff#36908, meta_last_updated#36909, product_sid#36910L]\n      +- Join LeftOuter, ((product_id#36911 = product_id#36901) AND ((transaction_time#36906 >= meta_valid_from#36925) AND (cast(transaction_time#36906 as timestamp) <= meta_valid_to#36926)))\n         :- SubqueryAlias src\n         :  +- SubqueryAlias spark_catalog.default.silver_purchase_scd1\n         :     +- Relation spark_catalog.default.silver_purchase_scd1[transaction_sid#36896L,add_supplements#36897,is_member#36898,member_discount#36899,price#36900,product_id#36901,quantity#36902L,supplement_price#36903,total_purchase#36904,transaction_id#36905,transaction_time#36906,meta_ingestion_ts#36907,meta_hashdiff#36908,meta_last_updated#36909] parquet\n         +- SubqueryAlias spark_catalog.default.silver_product_scd2\n            +- Relation spark_catalog.default.silver_product_scd2[product_sid#36910L,product_id#36911,category#36912,cogs#36913,contains_caffeine#36914,contains_fruit#36915,contains_nuts#36916,contains_veggies#36917,event_time#36918,item#36919,price#36920,size#36921,meta_ingestion_ts#36922,meta_hashdiff#36923,meta_is_current#36924,meta_valid_from#36925,meta_valid_to#36926,meta_sequence#36927] parquet\n",
     "output_type": "error",
     "traceback": [
      "\u001b[0;31m---------------------------------------------------------------------------\u001b[0m",
      "\u001b[0;31mAnalysisException\u001b[0m                         Traceback (most recent call last)",
      "Cell \u001b[0;32mIn[26], line 1\u001b[0m\n\u001b[0;32m----> 1\u001b[0m \u001b[43mcreate_gold_fact_table\u001b[49m\u001b[43m \u001b[49m\u001b[43m(\u001b[49m\n\u001b[1;32m      2\u001b[0m \u001b[43m    \u001b[49m\u001b[43msource\u001b[49m\u001b[38;5;241;43m=\u001b[39;49m\u001b[38;5;124;43m\"\u001b[39;49m\u001b[38;5;124;43msilver_purchase_scd1\u001b[39;49m\u001b[38;5;124;43m\"\u001b[39;49m\u001b[43m,\u001b[49m\n\u001b[1;32m      3\u001b[0m \u001b[43m    \u001b[49m\u001b[43mtarget\u001b[49m\u001b[38;5;241;43m=\u001b[39;49m\u001b[38;5;124;43m\"\u001b[39;49m\u001b[38;5;124;43mgold_fact_purchase\u001b[39;49m\u001b[38;5;124;43m\"\u001b[39;49m\u001b[43m,\u001b[49m\n\u001b[1;32m      4\u001b[0m \u001b[43m    \u001b[49m\u001b[43msurrogate_key\u001b[49m\u001b[38;5;241;43m=\u001b[39;49m\u001b[38;5;124;43m\"\u001b[39;49m\u001b[38;5;124;43mtransaction_sid\u001b[39;49m\u001b[38;5;124;43m\"\u001b[39;49m\u001b[43m,\u001b[49m\n\u001b[1;32m      5\u001b[0m \u001b[43m    \u001b[49m\u001b[43mtimestamp_key\u001b[49m\u001b[38;5;241;43m=\u001b[39;49m\u001b[38;5;124;43m\"\u001b[39;49m\u001b[38;5;124;43mtransaction_time\u001b[39;49m\u001b[38;5;124;43m\"\u001b[39;49m\u001b[43m,\u001b[49m\n\u001b[1;32m      6\u001b[0m \u001b[43m    \u001b[49m\u001b[43mdim_table_refs\u001b[49m\u001b[38;5;241;43m=\u001b[39;49m\u001b[43m[\u001b[49m\u001b[43m{\u001b[49m\u001b[38;5;124;43m\"\u001b[39;49m\u001b[38;5;124;43mtable_name\u001b[39;49m\u001b[38;5;124;43m\"\u001b[39;49m\u001b[43m:\u001b[49m\u001b[43m \u001b[49m\u001b[38;5;124;43m\"\u001b[39;49m\u001b[38;5;124;43msilver_product_scd2\u001b[39;49m\u001b[38;5;124;43m\"\u001b[39;49m\u001b[43m,\u001b[49m\u001b[43m \u001b[49m\u001b[38;5;124;43m\"\u001b[39;49m\u001b[38;5;124;43mmerge_key\u001b[39;49m\u001b[38;5;124;43m\"\u001b[39;49m\u001b[43m:\u001b[49m\u001b[43m \u001b[49m\u001b[38;5;124;43m\"\u001b[39;49m\u001b[38;5;124;43mproduct_id\u001b[39;49m\u001b[38;5;124;43m\"\u001b[39;49m\u001b[43m,\u001b[49m\u001b[43m \u001b[49m\u001b[38;5;124;43m\"\u001b[39;49m\u001b[38;5;124;43msurrogate_key\u001b[39;49m\u001b[38;5;124;43m\"\u001b[39;49m\u001b[43m:\u001b[49m\u001b[43m \u001b[49m\u001b[38;5;124;43m\"\u001b[39;49m\u001b[38;5;124;43mproduct_sid\u001b[39;49m\u001b[38;5;124;43m\"\u001b[39;49m\u001b[43m}\u001b[49m\u001b[43m]\u001b[49m\n\u001b[1;32m      7\u001b[0m \u001b[43m)\u001b[49m\n\u001b[1;32m      9\u001b[0m create_gold_fact_table (\n\u001b[1;32m     10\u001b[0m     source\u001b[38;5;241m=\u001b[39m\u001b[38;5;124m\"\u001b[39m\u001b[38;5;124msilver_inventory_scd1\u001b[39m\u001b[38;5;124m\"\u001b[39m,\n\u001b[1;32m     11\u001b[0m     target\u001b[38;5;241m=\u001b[39m\u001b[38;5;124m\"\u001b[39m\u001b[38;5;124mgold_fact_inventory\u001b[39m\u001b[38;5;124m\"\u001b[39m,\n\u001b[0;32m   (...)\u001b[0m\n\u001b[1;32m     14\u001b[0m     dim_table_refs\u001b[38;5;241m=\u001b[39m[{\u001b[38;5;124m\"\u001b[39m\u001b[38;5;124mtable_name\u001b[39m\u001b[38;5;124m\"\u001b[39m: \u001b[38;5;124m\"\u001b[39m\u001b[38;5;124msilver_product_scd2\u001b[39m\u001b[38;5;124m\"\u001b[39m, \u001b[38;5;124m\"\u001b[39m\u001b[38;5;124mmerge_key\u001b[39m\u001b[38;5;124m\"\u001b[39m: \u001b[38;5;124m\"\u001b[39m\u001b[38;5;124mproduct_id\u001b[39m\u001b[38;5;124m\"\u001b[39m, \u001b[38;5;124m\"\u001b[39m\u001b[38;5;124msurrogate_key\u001b[39m\u001b[38;5;124m\"\u001b[39m: \u001b[38;5;124m\"\u001b[39m\u001b[38;5;124mproduct_sid\u001b[39m\u001b[38;5;124m\"\u001b[39m}]\n\u001b[1;32m     15\u001b[0m )\n",
      "Cell \u001b[0;32mIn[25], line 27\u001b[0m, in \u001b[0;36mcreate_gold_fact_table\u001b[0;34m(source, target, surrogate_key, timestamp_key, dim_table_refs)\u001b[0m\n\u001b[1;32m     24\u001b[0m spark\u001b[38;5;241m.\u001b[39msql(\u001b[38;5;124mf\u001b[39m\u001b[38;5;124m\"\u001b[39m\u001b[38;5;124mCREATE TABLE IF NOT EXISTS \u001b[39m\u001b[38;5;132;01m{\u001b[39;00mtarget\u001b[38;5;132;01m}\u001b[39;00m\u001b[38;5;124m LIKE \u001b[39m\u001b[38;5;132;01m{\u001b[39;00mtmp_view_name\u001b[38;5;132;01m}\u001b[39;00m\u001b[38;5;124m USING DELTA\u001b[39m\u001b[38;5;124m\"\u001b[39m)\n\u001b[1;32m     26\u001b[0m \u001b[38;5;66;03m# Get list of sequences\u001b[39;00m\n\u001b[0;32m---> 27\u001b[0m lst_sequence \u001b[38;5;241m=\u001b[39m \u001b[38;5;28msorted\u001b[39m([p\u001b[38;5;241m.\u001b[39mmeta_sequence \u001b[38;5;28;01mfor\u001b[39;00m p \u001b[38;5;129;01min\u001b[39;00m \u001b[43mdf\u001b[49m\u001b[38;5;241;43m.\u001b[39;49m\u001b[43mselect\u001b[49m\u001b[43m(\u001b[49m\u001b[38;5;124;43m'\u001b[39;49m\u001b[38;5;124;43mmeta_sequence\u001b[39;49m\u001b[38;5;124;43m'\u001b[39;49m\u001b[43m)\u001b[49m\u001b[38;5;241m.\u001b[39mdistinct()\u001b[38;5;241m.\u001b[39mcollect()])\n\u001b[1;32m     29\u001b[0m \u001b[38;5;66;03m# Run SCD2 table \u001b[39;00m\n\u001b[1;32m     30\u001b[0m \u001b[38;5;28;01mfor\u001b[39;00m seq_num \u001b[38;5;129;01min\u001b[39;00m lst_sequence:\n\u001b[1;32m     31\u001b[0m \n\u001b[1;32m     32\u001b[0m     \u001b[38;5;66;03m# Merge into target table \u001b[39;00m\n",
      "File \u001b[0;32m/opt/conda/envs/vscode_pyspark/lib/python3.11/site-packages/pyspark/sql/dataframe.py:3223\u001b[0m, in \u001b[0;36mDataFrame.select\u001b[0;34m(self, *cols)\u001b[0m\n\u001b[1;32m   3178\u001b[0m \u001b[38;5;28;01mdef\u001b[39;00m \u001b[38;5;21mselect\u001b[39m(\u001b[38;5;28mself\u001b[39m, \u001b[38;5;241m*\u001b[39mcols: \u001b[38;5;124m\"\u001b[39m\u001b[38;5;124mColumnOrName\u001b[39m\u001b[38;5;124m\"\u001b[39m) \u001b[38;5;241m-\u001b[39m\u001b[38;5;241m>\u001b[39m \u001b[38;5;124m\"\u001b[39m\u001b[38;5;124mDataFrame\u001b[39m\u001b[38;5;124m\"\u001b[39m:  \u001b[38;5;66;03m# type: ignore[misc]\u001b[39;00m\n\u001b[1;32m   3179\u001b[0m \u001b[38;5;250m    \u001b[39m\u001b[38;5;124;03m\"\"\"Projects a set of expressions and returns a new :class:`DataFrame`.\u001b[39;00m\n\u001b[1;32m   3180\u001b[0m \n\u001b[1;32m   3181\u001b[0m \u001b[38;5;124;03m    .. versionadded:: 1.3.0\u001b[39;00m\n\u001b[0;32m   (...)\u001b[0m\n\u001b[1;32m   3221\u001b[0m \u001b[38;5;124;03m    +-----+---+\u001b[39;00m\n\u001b[1;32m   3222\u001b[0m \u001b[38;5;124;03m    \"\"\"\u001b[39;00m\n\u001b[0;32m-> 3223\u001b[0m     jdf \u001b[38;5;241m=\u001b[39m \u001b[38;5;28;43mself\u001b[39;49m\u001b[38;5;241;43m.\u001b[39;49m\u001b[43m_jdf\u001b[49m\u001b[38;5;241;43m.\u001b[39;49m\u001b[43mselect\u001b[49m\u001b[43m(\u001b[49m\u001b[38;5;28;43mself\u001b[39;49m\u001b[38;5;241;43m.\u001b[39;49m\u001b[43m_jcols\u001b[49m\u001b[43m(\u001b[49m\u001b[38;5;241;43m*\u001b[39;49m\u001b[43mcols\u001b[49m\u001b[43m)\u001b[49m\u001b[43m)\u001b[49m\n\u001b[1;32m   3224\u001b[0m     \u001b[38;5;28;01mreturn\u001b[39;00m DataFrame(jdf, \u001b[38;5;28mself\u001b[39m\u001b[38;5;241m.\u001b[39msparkSession)\n",
      "File \u001b[0;32m/opt/conda/envs/vscode_pyspark/lib/python3.11/site-packages/py4j/java_gateway.py:1322\u001b[0m, in \u001b[0;36mJavaMember.__call__\u001b[0;34m(self, *args)\u001b[0m\n\u001b[1;32m   1316\u001b[0m command \u001b[38;5;241m=\u001b[39m proto\u001b[38;5;241m.\u001b[39mCALL_COMMAND_NAME \u001b[38;5;241m+\u001b[39m\\\n\u001b[1;32m   1317\u001b[0m     \u001b[38;5;28mself\u001b[39m\u001b[38;5;241m.\u001b[39mcommand_header \u001b[38;5;241m+\u001b[39m\\\n\u001b[1;32m   1318\u001b[0m     args_command \u001b[38;5;241m+\u001b[39m\\\n\u001b[1;32m   1319\u001b[0m     proto\u001b[38;5;241m.\u001b[39mEND_COMMAND_PART\n\u001b[1;32m   1321\u001b[0m answer \u001b[38;5;241m=\u001b[39m \u001b[38;5;28mself\u001b[39m\u001b[38;5;241m.\u001b[39mgateway_client\u001b[38;5;241m.\u001b[39msend_command(command)\n\u001b[0;32m-> 1322\u001b[0m return_value \u001b[38;5;241m=\u001b[39m \u001b[43mget_return_value\u001b[49m\u001b[43m(\u001b[49m\n\u001b[1;32m   1323\u001b[0m \u001b[43m    \u001b[49m\u001b[43manswer\u001b[49m\u001b[43m,\u001b[49m\u001b[43m \u001b[49m\u001b[38;5;28;43mself\u001b[39;49m\u001b[38;5;241;43m.\u001b[39;49m\u001b[43mgateway_client\u001b[49m\u001b[43m,\u001b[49m\u001b[43m \u001b[49m\u001b[38;5;28;43mself\u001b[39;49m\u001b[38;5;241;43m.\u001b[39;49m\u001b[43mtarget_id\u001b[49m\u001b[43m,\u001b[49m\u001b[43m \u001b[49m\u001b[38;5;28;43mself\u001b[39;49m\u001b[38;5;241;43m.\u001b[39;49m\u001b[43mname\u001b[49m\u001b[43m)\u001b[49m\n\u001b[1;32m   1325\u001b[0m \u001b[38;5;28;01mfor\u001b[39;00m temp_arg \u001b[38;5;129;01min\u001b[39;00m temp_args:\n\u001b[1;32m   1326\u001b[0m     \u001b[38;5;28;01mif\u001b[39;00m \u001b[38;5;28mhasattr\u001b[39m(temp_arg, \u001b[38;5;124m\"\u001b[39m\u001b[38;5;124m_detach\u001b[39m\u001b[38;5;124m\"\u001b[39m):\n",
      "File \u001b[0;32m/opt/conda/envs/vscode_pyspark/lib/python3.11/site-packages/pyspark/errors/exceptions/captured.py:185\u001b[0m, in \u001b[0;36mcapture_sql_exception.<locals>.deco\u001b[0;34m(*a, **kw)\u001b[0m\n\u001b[1;32m    181\u001b[0m converted \u001b[38;5;241m=\u001b[39m convert_exception(e\u001b[38;5;241m.\u001b[39mjava_exception)\n\u001b[1;32m    182\u001b[0m \u001b[38;5;28;01mif\u001b[39;00m \u001b[38;5;129;01mnot\u001b[39;00m \u001b[38;5;28misinstance\u001b[39m(converted, UnknownException):\n\u001b[1;32m    183\u001b[0m     \u001b[38;5;66;03m# Hide where the exception came from that shows a non-Pythonic\u001b[39;00m\n\u001b[1;32m    184\u001b[0m     \u001b[38;5;66;03m# JVM exception message.\u001b[39;00m\n\u001b[0;32m--> 185\u001b[0m     \u001b[38;5;28;01mraise\u001b[39;00m converted \u001b[38;5;28;01mfrom\u001b[39;00m \u001b[38;5;28;01mNone\u001b[39;00m\n\u001b[1;32m    186\u001b[0m \u001b[38;5;28;01melse\u001b[39;00m:\n\u001b[1;32m    187\u001b[0m     \u001b[38;5;28;01mraise\u001b[39;00m\n",
      "\u001b[0;31mAnalysisException\u001b[0m: [UNRESOLVED_COLUMN.WITH_SUGGESTION] A column or function parameter with name `meta_sequence` cannot be resolved. Did you mean one of the following? [`src`.`price`, `src`.`quantity`, `src`.`is_member`, `src`.`meta_hashdiff`, `src`.`meta_last_updated`].;\n'Project ['meta_sequence]\n+- Project [transaction_sid#36896L, product_sid#36910L, add_supplements#36897, is_member#36898, member_discount#36899, price#36900, product_id#36901, quantity#36902L, supplement_price#36903, total_purchase#36904, transaction_id#36905, transaction_time#36906, meta_ingestion_ts#36907, meta_hashdiff#36908, meta_last_updated#36909]\n   +- Project [transaction_sid#36896L, add_supplements#36897, is_member#36898, member_discount#36899, price#36900, product_id#36901, quantity#36902L, supplement_price#36903, total_purchase#36904, transaction_id#36905, transaction_time#36906, meta_ingestion_ts#36907, meta_hashdiff#36908, meta_last_updated#36909, product_sid#36910L]\n      +- Join LeftOuter, ((product_id#36911 = product_id#36901) AND ((transaction_time#36906 >= meta_valid_from#36925) AND (cast(transaction_time#36906 as timestamp) <= meta_valid_to#36926)))\n         :- SubqueryAlias src\n         :  +- SubqueryAlias spark_catalog.default.silver_purchase_scd1\n         :     +- Relation spark_catalog.default.silver_purchase_scd1[transaction_sid#36896L,add_supplements#36897,is_member#36898,member_discount#36899,price#36900,product_id#36901,quantity#36902L,supplement_price#36903,total_purchase#36904,transaction_id#36905,transaction_time#36906,meta_ingestion_ts#36907,meta_hashdiff#36908,meta_last_updated#36909] parquet\n         +- SubqueryAlias spark_catalog.default.silver_product_scd2\n            +- Relation spark_catalog.default.silver_product_scd2[product_sid#36910L,product_id#36911,category#36912,cogs#36913,contains_caffeine#36914,contains_fruit#36915,contains_nuts#36916,contains_veggies#36917,event_time#36918,item#36919,price#36920,size#36921,meta_ingestion_ts#36922,meta_hashdiff#36923,meta_is_current#36924,meta_valid_from#36925,meta_valid_to#36926,meta_sequence#36927] parquet\n"
     ]
    }
   ],
   "source": [
    "create_gold_fact_table (\n",
    "    source=\"silver_purchase_scd1\",\n",
    "    target=\"gold_fact_purchase\",\n",
    "    surrogate_key=\"transaction_sid\",\n",
    "    timestamp_key=\"transaction_time\",\n",
    "    dim_table_refs=[{\"table_name\": \"silver_product_scd2\", \"merge_key\": \"product_id\", \"surrogate_key\": \"product_sid\"}]\n",
    ")\n",
    "\n",
    "create_gold_fact_table (\n",
    "    source=\"silver_inventory_scd1\",\n",
    "    target=\"gold_fact_inventory\",\n",
    "    surrogate_key=\"inventory_sid\",\n",
    "    timestamp_key=\"event_time\",\n",
    "    dim_table_refs=[{\"table_name\": \"silver_product_scd2\", \"merge_key\": \"product_id\", \"surrogate_key\": \"product_sid\"}]\n",
    ")\n"
   ]
  },
  {
   "cell_type": "code",
   "execution_count": null,
   "metadata": {},
   "outputs": [],
   "source": [
    "# spark.sql(\"select * from gold_fact_purchase\").show(5)\n",
    "spark.sql(\"select * from gold_fact_inventory\").show(5)"
   ]
  }
 ],
 "metadata": {
  "kernelspec": {
   "display_name": "vscode_pyspark",
   "language": "python",
   "name": "vscode_pyspark"
  },
  "language_info": {
   "codemirror_mode": {
    "name": "ipython",
    "version": 3
   },
   "file_extension": ".py",
   "mimetype": "text/x-python",
   "name": "python",
   "nbconvert_exporter": "python",
   "pygments_lexer": "ipython3",
   "version": "3.11.7"
  }
 },
 "nbformat": 4,
 "nbformat_minor": 2
}
