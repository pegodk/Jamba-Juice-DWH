{
 "cells": [
  {
   "cell_type": "code",
   "execution_count": 1,
   "metadata": {},
   "outputs": [],
   "source": [
    "\n",
    "# Import SparkSession\n",
    "from pyspark.sql import SparkSession\n",
    "\n",
    "# Create SparkSession \n",
    "spark = SparkSession.builder \\\n",
    "      .master(\"local[1]\") \\\n",
    "      .appName(\"test\") \\\n",
    "      .getOrCreate()\n"
   ]
  },
  {
   "cell_type": "code",
   "execution_count": 3,
   "metadata": {},
   "outputs": [
    {
     "name": "stdout",
     "output_type": "stream",
     "text": [
      "/home/peter\n",
      "['.devcontainer', '.git', '.gitattributes', '.gitignore', '.idea', '.vscode', 'bronze_products.ipynb', 'data', 'README.md', 'sales_generator', 'test.ipynb']\n"
     ]
    }
   ],
   "source": [
    "import os\n",
    "print(os.getcwd())\n",
    "print(os.listdir(os.getcwd()))\n",
    "\n",
    "path = os.path.join(os.getcwd(), \"Documents\",\"GitHub\", \"streaming_dwh\", \"data\", \"Product\")\n",
    "\n",
    "# print(os.listdir(path))\n",
    "# print(os.listdir(\"./Documents/GitHub/streaming_dwh/data/Product/\"))"
   ]
  },
  {
   "cell_type": "code",
   "execution_count": 13,
   "metadata": {},
   "outputs": [
    {
     "name": "stdout",
     "output_type": "stream",
     "text": [
      "+-----------------+----+-----------------+--------------+-------------+----------------+--------------------+------------------+-----+----------+------+\n",
      "|         category|cogs|contains_caffeine|contains_fruit|contains_nuts|contains_veggies|          event_time|              item|price|product_id|  size|\n",
      "+-----------------+----+-----------------+--------------+-------------+----------------+--------------------+------------------+-----+----------+------+\n",
      "|Classic Smoothies| 1.5|            false|          true|        false|           false|2024-02-12 21:25:...|Strawberry Limeade| 4.99|      CS09|24 oz.|\n",
      "+-----------------+----+-----------------+--------------+-------------+----------------+--------------------+------------------+-----+----------+------+\n",
      "\n"
     ]
    }
   ],
   "source": [
    "path = os.path.join(os.getcwd(), \"data\", \"Product\", \"CS09.json\")\n",
    "\n",
    "df = spark.read.json(path)\n",
    "\n",
    "# df = spark.read.option(\"multiline\",\"true\").json(\"./Documents/GitHub/streaming_dwh/data/Product/2024-02-12 21:11:46.767974.json\")\n",
    "\n",
    "df.show()"
   ]
  },
  {
   "cell_type": "code",
   "execution_count": 19,
   "metadata": {},
   "outputs": [
    {
     "name": "stdout",
     "output_type": "stream",
     "text": [
      "['CS01.json', 'CS02.json', 'CS03.json', 'CS04.json', 'CS05.json', 'CS06.json', 'CS07.json', 'CS08.json', 'CS09.json', 'CS10.json', 'CS11.json', 'IS01.json', 'IS02.json', 'IS03.json', 'IS04.json', 'SC01.json', 'SC02.json', 'SC03.json', 'SC04.json', 'SC05.json', 'SF01.json', 'SF02.json', 'SF03.json', 'SF04.json', 'SF05.json', 'SF06.json', 'SF07.json']\n"
     ]
    }
   ],
   "source": [
    "\n",
    "path = os.path.join(os.getcwd(), \"data\", \"Product\")\n",
    "\n",
    "print(os.listdir(path=path))\n",
    "\n",
    "# To allow automatic schemaInference while reading\n",
    "# spark.conf.set(\"spark.sql.streaming.schemaInference\", True)\n",
    "\n",
    "# Create the streaming_df to read from input directory\n",
    "streaming_df = spark.readStream \\\n",
    "    .format(\"json\") \\\n",
    "    .option(\"maxFilesPerTrigger\", 1) \\\n",
    "    .load(path) \\\n",
    "    .writeStream \\\n",
    "    .format(\"console\") \\\n",
    "    .start()\n",
    "\n",
    "# streaming_df.display()"
   ]
  },
  {
   "cell_type": "code",
   "execution_count": 8,
   "metadata": {},
   "outputs": [],
   "source": [
    "import tempfile\n",
    "import time\n",
    "with tempfile.TemporaryDirectory() as d:\n",
    "    # Write a temporary JSON file to read it.\n",
    "    spark.createDataFrame(\n",
    "        [(100, \"Hyukjin Kwon\"),], [\"age\", \"name\"]\n",
    "    ).write.mode(\"overwrite\").format(\"json\").save(d)\n",
    "\n",
    "    # Start a streaming query to read the JSON file.\n",
    "    q = spark.readStream.schema(\n",
    "        \"age INT, name STRING\"\n",
    "    ).json(d).writeStream.format(\"console\").start()\n",
    "    time.sleep(3)\n",
    "    q.stop()"
   ]
  }
 ],
 "metadata": {
  "kernelspec": {
   "display_name": "vscode_pyspark",
   "language": "python",
   "name": "vscode_pyspark"
  },
  "language_info": {
   "codemirror_mode": {
    "name": "ipython",
    "version": 3
   },
   "file_extension": ".py",
   "mimetype": "text/x-python",
   "name": "python",
   "nbconvert_exporter": "python",
   "pygments_lexer": "ipython3",
   "version": "3.11.7"
  }
 },
 "nbformat": 4,
 "nbformat_minor": 2
}
