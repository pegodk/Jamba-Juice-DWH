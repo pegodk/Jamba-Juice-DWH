{
 "cells": [
  {
   "cell_type": "code",
   "execution_count": null,
   "metadata": {},
   "outputs": [],
   "source": [
    "\n",
    "# Import SparkSession\n",
    "import os\n",
    "from pyspark.sql import SparkSession\n",
    "\n",
    "# Create SparkSession \n",
    "spark = SparkSession.builder \\\n",
    "      .master(\"local[1]\") \\\n",
    "      .appName(\"test\") \\\n",
    "      .getOrCreate()\n"
   ]
  },
  {
   "cell_type": "code",
   "execution_count": null,
   "metadata": {},
   "outputs": [],
   "source": [
    "\n",
    "input_path = os.path.join(os.getcwd(), \"data\", \"Product\")\n",
    "output_path = os.path.join(os.getcwd(), \"data\", \"bronze\", \"Product\")\n",
    "print(os.listdir(path=input_path))\n",
    "\n",
    "# Define schema\n",
    "schema = \"event_time TIMESTAMP, product_id STRING, category STRING, item STRING, size STRING, cogs FLOAT, price FLOAT, contains_fruit BOOLEAN, contains_veggies BOOLEAN, contains_nuts BOOLEAN, contains_caffeine BOOLEAN\"\n",
    "\n",
    "# Create the streaming_df to read from input directory\n",
    "streaming_df = \\\n",
    "    spark.readStream \\\n",
    "    .format(\"json\") \\\n",
    "    .schema(schema) \\\n",
    "    .option(\"maxFilesPerTrigger\", 1) \\\n",
    "    .load(input_path) \\\n",
    "\n",
    "# streaming_df.display()"
   ]
  },
  {
   "cell_type": "code",
   "execution_count": null,
   "metadata": {},
   "outputs": [],
   "source": [
    " # Start running the query that prints the running counts to the console\n",
    "\n",
    "wordCounts = streaming_df.groupBy(\"category\").count()\n",
    "\n",
    "query = wordCounts \\\n",
    "    .writeStream \\\n",
    "    .outputMode(\"complete\") \\\n",
    "    .format(\"console\") \\\n",
    "    .start()\n",
    "\n",
    "query.awaitTermination()"
   ]
  }
 ],
 "metadata": {
  "kernelspec": {
   "display_name": "vscode_pyspark",
   "language": "python",
   "name": "vscode_pyspark"
  },
  "language_info": {
   "codemirror_mode": {
    "name": "ipython",
    "version": 3
   },
   "file_extension": ".py",
   "mimetype": "text/x-python",
   "name": "python",
   "nbconvert_exporter": "python",
   "pygments_lexer": "ipython3",
   "version": "3.11.7"
  }
 },
 "nbformat": 4,
 "nbformat_minor": 2
}
