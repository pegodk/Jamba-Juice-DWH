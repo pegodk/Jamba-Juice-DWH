{
 "cells": [
  {
   "cell_type": "code",
   "execution_count": 2,
   "metadata": {},
   "outputs": [],
   "source": [
    "\n",
    "# Import SparkSession\n",
    "import os\n",
    "import pyspark\n",
    "from delta import *\n",
    "\n",
    "builder = pyspark.sql.SparkSession.builder.appName(\"STREAMING_DWH\") \\\n",
    "    .config(\"spark.sql.extensions\", \"io.delta.sql.DeltaSparkSessionExtension\") \\\n",
    "    .config(\"spark.sql.catalog.spark_catalog\", \"org.apache.spark.sql.delta.catalog.DeltaCatalog\")\n",
    "\n",
    "spark = configure_spark_with_delta_pip(builder).getOrCreate()\n"
   ]
  },
  {
   "cell_type": "code",
   "execution_count": 3,
   "metadata": {},
   "outputs": [
    {
     "name": "stdout",
     "output_type": "stream",
     "text": [
      "+-----------------+----+-----------------+--------------+-------------+----------------+--------------------+--------------+-----+----------+------+\n",
      "|         category|cogs|contains_caffeine|contains_fruit|contains_nuts|contains_veggies|          event_time|          item|price|product_id|  size|\n",
      "+-----------------+----+-----------------+--------------+-------------+----------------+--------------------+--------------+-----+----------+------+\n",
      "|Classic Smoothies| 1.5|            false|          true|        false|           false|2024-02-13 17:18:...|Sunrise Sunset| 4.99|      CS01|24 oz.|\n",
      "+-----------------+----+-----------------+--------------+-------------+----------------+--------------------+--------------+-----+----------+------+\n",
      "\n"
     ]
    }
   ],
   "source": [
    "test_df = spark.read.json(\"data/landing/Product/1707844682350206.json\").show()"
   ]
  },
  {
   "cell_type": "code",
   "execution_count": 4,
   "metadata": {},
   "outputs": [
    {
     "name": "stdout",
     "output_type": "stream",
     "text": [
      "root\n",
      " |-- category: string (nullable = true)\n",
      " |-- cogs: double (nullable = true)\n",
      " |-- contains_caffeine: boolean (nullable = true)\n",
      " |-- contains_fruit: boolean (nullable = true)\n",
      " |-- contains_nuts: boolean (nullable = true)\n",
      " |-- contains_veggies: boolean (nullable = true)\n",
      " |-- event_time: string (nullable = true)\n",
      " |-- item: string (nullable = true)\n",
      " |-- price: double (nullable = true)\n",
      " |-- product_id: string (nullable = true)\n",
      " |-- size: string (nullable = true)\n",
      "\n"
     ]
    }
   ],
   "source": [
    "# To allow automatic schemaInference while reading\n",
    "spark.conf.set(\"spark.sql.streaming.schemaInference\", True)\n",
    "\n",
    "# Create the streaming_df to read from input directory\n",
    "streaming_df = spark \\\n",
    "    .readStream \\\n",
    "    .format(\"json\") \\\n",
    "    .option(\"maxFilesPerTrigger\", 1) \\\n",
    "    .load(\"data/landing/Product/\")\n",
    "\n",
    "streaming_df.printSchema()"
   ]
  },
  {
   "cell_type": "code",
   "execution_count": 8,
   "metadata": {},
   "outputs": [],
   "source": [
    "# To allow automatic schemaInference while reading\n",
    "spark.conf.set(\"spark.sql.streaming.schemaInference\", True)\n",
    "\n",
    "def bronze_ingestion_query(table_name):\n",
    "    ### Generates a source path based on table name, reads all files from that and inserts into bronze schema ###\n",
    "\n",
    "    source_path = f\"data/landing/{table_name}\"\n",
    "    target_path = f\"data/bronze/{table_name}\"\n",
    "\n",
    "    query = (\n",
    "        spark.readStream \\\n",
    "        .format(\"json\") \\\n",
    "        .option(\"maxFilesPerTrigger\", 1) \\\n",
    "        .load(source_path) \\\n",
    "        .writeStream \\\n",
    "        .outputMode(\"append\") \\\n",
    "        .format(\"delta\") \\\n",
    "        .option(\"path\", target_path) \\\n",
    "        .option(\"checkpointLocation\", target_path + \"/_checkpoint\") \\\n",
    "        .start()\n",
    "    )\n",
    "    return query\n",
    "\n",
    "\n",
    "query1 = bronze_ingestion_query(table_name=\"Inventory\")\n",
    "query2 = bronze_ingestion_query(table_name=\"Product\")\n",
    "query3 = bronze_ingestion_query(table_name=\"Purchase\")\n",
    "\n",
    "spark.streams.awaitAnyTermination()\n"
   ]
  },
  {
   "cell_type": "code",
   "execution_count": null,
   "metadata": {},
   "outputs": [
    {
     "name": "stdout",
     "output_type": "stream",
     "text": [
      "+--------------------+----+-----------------+--------------+-------------+----------------+--------------------+------------------+-----+----------+------+\n",
      "|            category|cogs|contains_caffeine|contains_fruit|contains_nuts|contains_veggies|          event_time|              item|price|product_id|  size|\n",
      "+--------------------+----+-----------------+--------------+-------------+----------------+--------------------+------------------+-----+----------+------+\n",
      "|Superfoods Smoothies| 2.1|            false|          true|        false|           false|2024-02-13 17:18:...|Pomegranate Plunge| 5.99|      SF04|24 oz.|\n",
      "|Supercharged Smoo...| 2.7|            false|         false|        false|           false|2024-02-13 18:05:...|   Peanut Paradise| 5.99|      SC02|24 oz.|\n",
      "|Superfoods Smoothies| 2.1|            false|          true|        false|            true|2024-02-13 18:05:...|     Totally Green| 5.99|      SF02|24 oz.|\n",
      "|Supercharged Smoo...| 2.7|            false|         false|         true|           false|2024-02-13 17:18:...|        Health Nut| 5.99|      SC03|24 oz.|\n",
      "| Indulgent Smoothies| 2.2|            false|          true|        false|           false|2024-02-13 18:05:...|       Bahama Mama| 5.49|      IS01|24 oz.|\n",
      "+--------------------+----+-----------------+--------------+-------------+----------------+--------------------+------------------+-----+----------+------+\n",
      "only showing top 5 rows\n",
      "\n"
     ]
    }
   ],
   "source": [
    "from delta.tables import *\n",
    "\n",
    "streaming_df = spark.read \\\n",
    "    .format(\"delta\") \\\n",
    "    .load(\"data/bronze/Product/\")\n",
    "\n",
    "streaming_df.show(5)"
   ]
  }
 ],
 "metadata": {
  "kernelspec": {
   "display_name": "vscode_pyspark",
   "language": "python",
   "name": "vscode_pyspark"
  },
  "language_info": {
   "codemirror_mode": {
    "name": "ipython",
    "version": 3
   },
   "file_extension": ".py",
   "mimetype": "text/x-python",
   "name": "python",
   "nbconvert_exporter": "python",
   "pygments_lexer": "ipython3",
   "version": "3.11.7"
  }
 },
 "nbformat": 4,
 "nbformat_minor": 2
}
